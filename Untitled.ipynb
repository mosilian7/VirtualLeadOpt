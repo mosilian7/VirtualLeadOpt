{
 "cells": [
  {
   "cell_type": "code",
   "execution_count": 1,
   "metadata": {},
   "outputs": [],
   "source": [
    "from core.predictor import Predictor, PredictorWrapper\n",
    "import time"
   ]
  },
  {
   "cell_type": "code",
   "execution_count": 12,
   "metadata": {},
   "outputs": [],
   "source": [
    "class Dog:\n",
    "    def __init__(self, size):\n",
    "        self.size = size\n",
    "    \n",
    "    def __lt__(self, other):\n",
    "        return self.size < other.size"
   ]
  },
  {
   "cell_type": "code",
   "execution_count": 17,
   "metadata": {},
   "outputs": [
    {
     "data": {
      "text/plain": [
       "False"
      ]
     },
     "execution_count": 17,
     "metadata": {},
     "output_type": "execute_result"
    }
   ],
   "source": [
    "d1 = Dog(12)\n",
    "d2 = Dog(40)\n",
    "d3 = Dog(float('nan'))\n",
    "\n",
    "d1 > d3"
   ]
  },
  {
   "cell_type": "code",
   "execution_count": 21,
   "metadata": {},
   "outputs": [],
   "source": [
    "def eval_herg_log_ic50(herg_log_ic50: float, **kwargs) -> float:\n",
    "    if herg_log_ic50 < -5.99:\n",
    "        return 0.01\n",
    "    elif herg_log_ic50 < -5:\n",
    "        return herg_log_ic50 + 6\n",
    "    else:\n",
    "        return 1\n",
    "\n",
    "\n",
    "def eval_qed(qed: float, **kwargs) -> float:\n",
    "    return qed"
   ]
  },
  {
   "cell_type": "code",
   "execution_count": 23,
   "metadata": {},
   "outputs": [
    {
     "data": {
      "text/plain": [
       "nan"
      ]
     },
     "execution_count": 23,
     "metadata": {},
     "output_type": "execute_result"
    }
   ],
   "source": [
    "eval_qed(float('nan'))"
   ]
  },
  {
   "cell_type": "code",
   "execution_count": 20,
   "metadata": {},
   "outputs": [
    {
     "data": {
      "text/plain": [
       "40"
      ]
     },
     "execution_count": 20,
     "metadata": {},
     "output_type": "execute_result"
    }
   ],
   "source": [
    "l = [d1, d2, d3]\n",
    "max(l).size"
   ]
  },
  {
   "cell_type": "code",
   "execution_count": null,
   "metadata": {},
   "outputs": [],
   "source": []
  },
  {
   "cell_type": "code",
   "execution_count": 36,
   "metadata": {},
   "outputs": [
    {
     "data": {
      "text/plain": [
       "nan"
      ]
     },
     "execution_count": 36,
     "metadata": {},
     "output_type": "execute_result"
    }
   ],
   "source": [
    "import common.util as util\n",
    "l = [ float('nan'), 3 ,1,2,float('nan'),4  ]\n",
    "util.geometric_mean(l)"
   ]
  },
  {
   "cell_type": "code",
   "execution_count": 37,
   "metadata": {},
   "outputs": [
    {
     "data": {
      "text/plain": [
       "[nan, 3, 2, 1, nan, 4]"
      ]
     },
     "execution_count": 37,
     "metadata": {},
     "output_type": "execute_result"
    }
   ],
   "source": [
    "l = sorted(l, reverse=True)\n",
    "l"
   ]
  },
  {
   "cell_type": "code",
   "execution_count": 1,
   "metadata": {},
   "outputs": [],
   "source": [
    "import common.util as util"
   ]
  },
  {
   "cell_type": "code",
   "execution_count": 1,
   "metadata": {},
   "outputs": [],
   "source": [
    "import core.graph as graph\n",
    "\n",
    "SMILES = [\"C=C(C)Cn1c(CN2CCN(c3ccc(Cl)cc3)CC2)nc2ccccc21\", \"C=CC(C)n1c(CN2CCN(c3ccc(Cl)cc3)CC2)nc2ccccc21\", \n",
    "          \"C=CC(O)c1ccc(N2CCN(Cc3nc4ccccc4n3C)CC2)cc1\", \"C=CCCn1c(CN2CCN(c3ccc(Cl)cc3)CC2)nc2ccccc21\",\n",
    "         \"CCC(Cc1nc2ccccc2n1C)N1CCN(c2ccc(Cl)cc2)CC1\", \"CCCc1ccc(N2CCN(Cc3nc4ccccc4n3C)CC2)cc1\",\n",
    "         \"CN(C(=O)N1CCN(c2ccc(Cl)cc2)CC1)c1nc2ccccc2n1C\"]\n",
    "\n",
    "nodes = [graph.Node(s) for s in SMILES]\n",
    "\n",
    "nodes[0].evaluation = 42"
   ]
  },
  {
   "cell_type": "code",
   "execution_count": 2,
   "metadata": {},
   "outputs": [],
   "source": [
    "import pickle\n",
    "\n",
    "with open(\"pickledemo\", \"wb\") as f:\n",
    "    pickle.dump(nodes, f)"
   ]
  },
  {
   "cell_type": "code",
   "execution_count": 1,
   "metadata": {},
   "outputs": [],
   "source": [
    "import pickle\n",
    "import core.graph as graph\n",
    "\n",
    "with open(\"pickledemo\", \"rb\") as f:\n",
    "    nodes = pickle.load(f)"
   ]
  },
  {
   "cell_type": "code",
   "execution_count": 8,
   "metadata": {},
   "outputs": [
    {
     "data": {
      "text/plain": [
       "True"
      ]
     },
     "execution_count": 8,
     "metadata": {},
     "output_type": "execute_result"
    }
   ],
   "source": [
    "nodes[3] < nodes[0]"
   ]
  },
  {
   "cell_type": "code",
   "execution_count": 28,
   "metadata": {},
   "outputs": [
    {
     "data": {
      "text/plain": [
       "Series([], dtype: float64)"
      ]
     },
     "execution_count": 28,
     "metadata": {},
     "output_type": "execute_result"
    }
   ],
   "source": [
    "import pandas as pd\n",
    "pd.Series([], dtype=float)"
   ]
  },
  {
   "cell_type": "code",
   "execution_count": 13,
   "metadata": {},
   "outputs": [
    {
     "ename": "IndexError",
     "evalue": "Cannot choose from an empty sequence",
     "output_type": "error",
     "traceback": [
      "\u001b[1;31m---------------------------------------------------------------------------\u001b[0m",
      "\u001b[1;31mIndexError\u001b[0m                                Traceback (most recent call last)",
      "\u001b[1;32m<ipython-input-13-1cf07da5602c>\u001b[0m in \u001b[0;36m<module>\u001b[1;34m\u001b[0m\n\u001b[0;32m      1\u001b[0m \u001b[1;32mimport\u001b[0m \u001b[0mrandom\u001b[0m\u001b[1;33m\u001b[0m\u001b[1;33m\u001b[0m\u001b[0m\n\u001b[1;32m----> 2\u001b[1;33m \u001b[0mrandom\u001b[0m\u001b[1;33m.\u001b[0m\u001b[0mchoice\u001b[0m\u001b[1;33m(\u001b[0m\u001b[1;33m[\u001b[0m\u001b[1;33m]\u001b[0m\u001b[1;33m)\u001b[0m\u001b[1;33m\u001b[0m\u001b[1;33m\u001b[0m\u001b[0m\n\u001b[0m",
      "\u001b[1;32mD:\\Program Files (x86)\\Schrodinger\\internal\\lib\\random.py\u001b[0m in \u001b[0;36mchoice\u001b[1;34m(self, seq)\u001b[0m\n\u001b[0;32m    288\u001b[0m             \u001b[0mi\u001b[0m \u001b[1;33m=\u001b[0m \u001b[0mself\u001b[0m\u001b[1;33m.\u001b[0m\u001b[0m_randbelow\u001b[0m\u001b[1;33m(\u001b[0m\u001b[0mlen\u001b[0m\u001b[1;33m(\u001b[0m\u001b[0mseq\u001b[0m\u001b[1;33m)\u001b[0m\u001b[1;33m)\u001b[0m\u001b[1;33m\u001b[0m\u001b[1;33m\u001b[0m\u001b[0m\n\u001b[0;32m    289\u001b[0m         \u001b[1;32mexcept\u001b[0m \u001b[0mValueError\u001b[0m\u001b[1;33m:\u001b[0m\u001b[1;33m\u001b[0m\u001b[1;33m\u001b[0m\u001b[0m\n\u001b[1;32m--> 290\u001b[1;33m             \u001b[1;32mraise\u001b[0m \u001b[0mIndexError\u001b[0m\u001b[1;33m(\u001b[0m\u001b[1;34m'Cannot choose from an empty sequence'\u001b[0m\u001b[1;33m)\u001b[0m \u001b[1;32mfrom\u001b[0m \u001b[1;32mNone\u001b[0m\u001b[1;33m\u001b[0m\u001b[1;33m\u001b[0m\u001b[0m\n\u001b[0m\u001b[0;32m    291\u001b[0m         \u001b[1;32mreturn\u001b[0m \u001b[0mseq\u001b[0m\u001b[1;33m[\u001b[0m\u001b[0mi\u001b[0m\u001b[1;33m]\u001b[0m\u001b[1;33m\u001b[0m\u001b[1;33m\u001b[0m\u001b[0m\n\u001b[0;32m    292\u001b[0m \u001b[1;33m\u001b[0m\u001b[0m\n",
      "\u001b[1;31mIndexError\u001b[0m: Cannot choose from an empty sequence"
     ]
    }
   ],
   "source": [
    "import random\n",
    "random.choice([])"
   ]
  },
  {
   "cell_type": "code",
   "execution_count": 6,
   "metadata": {},
   "outputs": [
    {
     "data": {
      "text/plain": [
       "[[1, 2, 7], [3, 4], [5, 6]]"
      ]
     },
     "execution_count": 6,
     "metadata": {},
     "output_type": "execute_result"
    }
   ],
   "source": [
    "ls"
   ]
  },
  {
   "cell_type": "code",
   "execution_count": 2,
   "metadata": {},
   "outputs": [
    {
     "data": {
      "text/plain": [
       "1.0"
      ]
     },
     "execution_count": 2,
     "metadata": {},
     "output_type": "execute_result"
    }
   ],
   "source": [
    "import math\n",
    "math.log()"
   ]
  },
  {
   "cell_type": "code",
   "execution_count": 2,
   "metadata": {},
   "outputs": [],
   "source": [
    "from rdkit.Chem import AllChem"
   ]
  },
  {
   "cell_type": "code",
   "execution_count": 3,
   "metadata": {},
   "outputs": [
    {
     "name": "stdout",
     "output_type": "stream",
     "text": [
      "0\n",
      "0\n",
      "0\n",
      "0\n",
      "0\n",
      "0\n",
      "0\n"
     ]
    }
   ],
   "source": [
    "SMILES = [\"C=C(C)Cn1c(CN2CCN(c3ccc(Cl)cc3)CC2)nc2ccccc21\", \"C=CC(C)n1c(CN2CCN(c3ccc(Cl)cc3)CC2)nc2ccccc21\", \n",
    "          \"C=CC(O)c1ccc(N2CCN(Cc3nc4ccccc4n3C)CC2)cc1\", \"C=CCCn1c(CN2CCN(c3ccc(Cl)cc3)CC2)nc2ccccc21\",\n",
    "         \"CCC(Cc1nc2ccccc2n1C)N1CCN(c2ccc(Cl)cc2)CC1\", \"CCCc1ccc(N2CCN(Cc3nc4ccccc4n3C)CC2)cc1\",\n",
    "         \"CN(C(=O)N1CCN(c2ccc(Cl)cc2)CC1)c1nc2ccccc2n1C\"]\n",
    "mols = [Chem.MolFromSmiles(smi) for smi in SMILES]\n",
    "hmols = [Chem.AddHs(m) for m in mols]\n",
    "for mol in hmols:\n",
    "    AllChem.EmbedMolecule(mol,AllChem.ETKDG())\n",
    "    print(AllChem.UFFOptimizeMolecule(mol,1000))"
   ]
  },
  {
   "cell_type": "code",
   "execution_count": 6,
   "metadata": {},
   "outputs": [
    {
     "data": {
      "text/plain": [
       "0.6787182654603993"
      ]
     },
     "execution_count": 6,
     "metadata": {},
     "output_type": "execute_result"
    }
   ],
   "source": [
    "from rdkit.Chem import QED\n",
    "m = Chem.MolFromSmiles(\"C=C(C)Cn1c(CN2CCN(c3ccc(Cl)cc3)CC2)nc2ccccc21\")\n",
    "QED.qed(mol)"
   ]
  },
  {
   "cell_type": "code",
   "execution_count": 3,
   "metadata": {},
   "outputs": [
    {
     "name": "stdout",
     "output_type": "stream",
     "text": [
      "Warning: unable to load font metrics from dir D:\\Program Files (x86)\\Schrodinger\\internal\\lib\\site-packages\\rdkit\\sping\\PIL\\pilfonts\n"
     ]
    },
    {
     "data": {
      "image/png": "[encoded data removed]",
      "text/plain": [
       "<PIL.Image.Image image mode=RGBA size=300x300 at 0x181B9A88A90>"
      ]
     },
     "execution_count": 3,
     "metadata": {},
     "output_type": "execute_result"
    }
   ],
   "source": [
    "import common.util as util\n",
    "util.visualize([\"C=C(C)Cn1c(CN2CCN(c3ccc(Cl)cc3)CC2)nc2ccccc21\"])"
   ]
  },
  {
   "cell_type": "code",
   "execution_count": 1,
   "metadata": {},
   "outputs": [],
   "source": [
    "import core.graph as graph"
   ]
  },
  {
   "cell_type": "code",
   "execution_count": 9,
   "metadata": {},
   "outputs": [],
   "source": [
    "n1 = graph.Node(\"C=C(C)Cn1c(CN2CCN(c3ccc(Cl)cc3)CC2)nc2ccccc21\")\n",
    "n2 = graph.Node(\"C=C(C)Cn1c(CN2CCN(c3ccc(Cl)cc3)CC2)nc2ccccc21\")\n",
    "n3 = graph.Node(\"C=CC(O)c1ccc(N2CCN(Cc3nc4ccccc4n3C)CC2)cc1\")"
   ]
  },
  {
   "cell_type": "code",
   "execution_count": 13,
   "metadata": {},
   "outputs": [],
   "source": [
    "n1.dis_to_target = 1\n",
    "n2.dis_to_target = 2\n",
    "n3.dis_to_target = 3"
   ]
  },
  {
   "cell_type": "code",
   "execution_count": 14,
   "metadata": {},
   "outputs": [
    {
     "data": {
      "text/plain": [
       "True"
      ]
     },
     "execution_count": 14,
     "metadata": {},
     "output_type": "execute_result"
    }
   ],
   "source": [
    "ns = set()"
   ]
  },
  {
   "cell_type": "code",
   "execution_count": 2,
   "metadata": {},
   "outputs": [],
   "source": [
    "p = Predictor([\"C=C(C)Cn1c(CN2CCN(c3ccc(Cl)cc3)CC2)nc2ccccc21\", \"C=CC(C)n1c(CN2CCN(c3ccc(Cl)cc3)CC2)nc2ccccc21\"], None, None)"
   ]
  },
  {
   "cell_type": "code",
   "execution_count": 2,
   "metadata": {},
   "outputs": [],
   "source": [
    "pw = PredictorWrapper(\"test/pdbdemo.pdb\",\"test/configtest.txt\")"
   ]
  },
  {
   "cell_type": "code",
   "execution_count": 3,
   "metadata": {},
   "outputs": [],
   "source": [
    "p1 = pw.predictor_instance([\"C=C(C)Cn1c(CN2CCN(c3ccc(Cl)cc3)CC2)nc2ccccc21\", \"C=CC(C)n1c(CN2CCN(c3ccc(Cl)cc3)CC2)nc2ccccc21\"])\n",
    "p2 = pw.predictor_instance([\"C=CC(O)c1ccc(N2CCN(Cc3nc4ccccc4n3C)CC2)cc1\", \"C=CCCn1c(CN2CCN(c3ccc(Cl)cc3)CC2)nc2ccccc21\"])"
   ]
  },
  {
   "cell_type": "code",
   "execution_count": 25,
   "metadata": {},
   "outputs": [],
   "source": [
    "import pandas as pd\n",
    "df = pd.DataFrame({\n",
    "    \"A\":[1,2,3],\n",
    "    \"B\":[4,5,6]\n",
    "})"
   ]
  },
  {
   "cell_type": "code",
   "execution_count": 36,
   "metadata": {},
   "outputs": [
    {
     "data": {
      "text/plain": [
       "pandas.core.series.Series"
      ]
     },
     "execution_count": 36,
     "metadata": {},
     "output_type": "execute_result"
    }
   ],
   "source": [
    "type(df[\"A\"])"
   ]
  },
  {
   "cell_type": "code",
   "execution_count": 6,
   "metadata": {},
   "outputs": [],
   "source": [
    "import core.graph as graph\n",
    "import core.predictor as pred\n",
    "import time"
   ]
  },
  {
   "cell_type": "code",
   "execution_count": 2,
   "metadata": {},
   "outputs": [],
   "source": [
    "pw = pred.PredictorWrapper(\"test/pdbdemo.pdb\",\"test/configtest.txt\", dock_cpu=4)"
   ]
  },
  {
   "cell_type": "code",
   "execution_count": 3,
   "metadata": {},
   "outputs": [],
   "source": [
    "g = graph.Graph(pw, None, None, prediction_workers=4)"
   ]
  },
  {
   "cell_type": "code",
   "execution_count": 4,
   "metadata": {},
   "outputs": [],
   "source": [
    "\n",
    "SMILES = [\"C=C(C)Cn1c(CN2CCN(c3ccc(Cl)cc3)CC2)nc2ccccc21\", \"C=CC(C)n1c(CN2CCN(c3ccc(Cl)cc3)CC2)nc2ccccc21\", \n",
    "          \"C=CC(O)c1ccc(N2CCN(Cc3nc4ccccc4n3C)CC2)cc1\", \"C=CCCn1c(CN2CCN(c3ccc(Cl)cc3)CC2)nc2ccccc21\",\n",
    "         \"CCC(Cc1nc2ccccc2n1C)N1CCN(c2ccc(Cl)cc2)CC1\", \"CCCc1ccc(N2CCN(Cc3nc4ccccc4n3C)CC2)cc1\",\n",
    "         \"CN(C(=O)N1CCN(c2ccc(Cl)cc2)CC1)c1nc2ccccc2n1C\"]\n",
    "\n",
    "nodes = [graph.Node(s) for s in SMILES]"
   ]
  },
  {
   "cell_type": "code",
   "execution_count": 7,
   "metadata": {},
   "outputs": [
    {
     "name": "stdout",
     "output_type": "stream",
     "text": [
      "\u001b[31m[20:20:20] obabel STDOUT:\u001b[0m\n",
      "\u001b[32m[20:20:20] obabel STDERR:\u001b[0m\n",
      "==============================\n",
      "*** Open Babel Warning  in OpenBabel::OBGlobalDataBase::Init\n",
      "  Unable to open data file 'space-groups.txt'\n",
      "==============================\n",
      "*** Open Babel Warning  in OpenBabel::OBGlobalDataBase::Init\n",
      "  Cannot initialize database 'space-groups.txt' which may cause further errors.\n",
      "1 molecule converted\n",
      "\u001b[31m[20:20:20] obabel STDOUT:\u001b[0m\n",
      "\u001b[32m[20:20:20] obabel STDERR:\u001b[0m\n",
      "==============================\n",
      "*** Open Babel Warning  in OpenBabel::OBGlobalDataBase::Init\n",
      "  Unable to open data file 'space-groups.txt'\n",
      "==============================\n",
      "*** Open Babel Warning  in OpenBabel::OBGlobalDataBase::Init\n",
      "  Cannot initialize database 'space-groups.txt' which may cause further errors.\n",
      "1 molecule converted\n",
      "\u001b[31m[20:20:20] obabel STDOUT:\u001b[0m\n",
      "\u001b[32m[20:20:20] obabel STDERR:\u001b[0m\n",
      "==============================\n",
      "*** Open Babel Warning  in OpenBabel::OBGlobalDataBase::Init\n",
      "  Unable to open data file 'space-groups.txt'\n",
      "==============================\n",
      "*** Open Babel Warning  in OpenBabel::OBGlobalDataBase::Init\n",
      "  Cannot initialize database 'space-groups.txt' which may cause further errors.\n",
      "1 molecule converted\n",
      "\u001b[31m[20:20:20] obabel STDOUT:\u001b[0m\n",
      "\u001b[32m[20:20:20] obabel STDERR:\u001b[0m\n",
      "==============================\n",
      "*** Open Babel Warning  in OpenBabel::OBGlobalDataBase::Init\n",
      "  Unable to open data file 'space-groups.txt'\n",
      "==============================\n",
      "*** Open Babel Warning  in OpenBabel::OBGlobalDataBase::Init\n",
      "  Cannot initialize database 'space-groups.txt' which may cause further errors.\n",
      "1 molecule converted\n",
      "\u001b[31m[20:20:20] obabel STDOUT:\u001b[0m\n",
      "\u001b[32m[20:20:20] obabel STDERR:\u001b[0m\n",
      "2 molecules converted\n",
      "2 files output. The first is 5334361661690897358_1.pdbqt\n",
      "\u001b[31m[20:20:20] obabel STDOUT:\u001b[0m\n",
      "\u001b[32m[20:20:20] obabel STDERR:\u001b[0m\n",
      "2 molecules converted\n",
      "2 files output. The first is 3742116517221677804_1.pdbqt\n",
      "\u001b[31m[20:20:20] obabel STDOUT:\u001b[0m\n",
      "\u001b[32m[20:20:20] obabel STDERR:\u001b[0m\n",
      "2 molecules converted\n",
      "2 files output. The first is 4469513024629772372_1.pdbqt\n",
      "\u001b[31m[20:20:20] obabel STDOUT:\u001b[0m\n",
      "\u001b[32m[20:20:20] obabel STDERR:\u001b[0m\n",
      "1 molecule converted\n",
      "\u001b[31m[20:20:41] D:\\Program Files (x86)\\Schrodinger\\qikprop STDOUT:\u001b[0m\n",
      "Jobname: 4469513024629772372\n",
      "JobId: LAPTOP-0287K7QE-3-6368f807\n",
      "\u001b[31m[20:20:41] D:\\Program Files (x86)\\Schrodinger\\qikprop STDOUT:\u001b[0m\n",
      "Jobname: 5334361661690897358\n",
      "JobId: LAPTOP-0287K7QE-0-6368f807\n",
      "\u001b[31m[20:20:41] D:\\Program Files (x86)\\Schrodinger\\qikprop STDOUT:\u001b[0m\n",
      "Jobname: 2939709896861442044\n",
      "JobId: LAPTOP-0287K7QE-2-6368f807\n",
      "\u001b[31m[20:20:41] D:\\Program Files (x86)\\Schrodinger\\qikprop STDOUT:\u001b[0m\n",
      "Jobname: 3742116517221677804\n",
      "JobId: LAPTOP-0287K7QE-1-6368f807\n",
      "\u001b[31m[20:21:58] vina STDOUT:\u001b[0m\n",
      "#################################################################\n",
      "# If you used AutoDock Vina in your work, please cite:          #\n",
      "#                                                               #\n",
      "# O. Trott, A. J. Olson,                                        #\n",
      "# AutoDock Vina: improving the speed and accuracy of docking    #\n",
      "# with a new scoring function, efficient optimization and       #\n",
      "# multithreading, Journal of Computational Chemistry 31 (2010)  #\n",
      "# 455-461                                                       #\n",
      "#                                                               #\n",
      "# DOI 10.1002/jcc.21334                                         #\n",
      "#                                                               #\n",
      "# Please see http://vina.scripps.edu for more information.      #\n",
      "#################################################################\n",
      "\n",
      "Reading input ... done.\n",
      "Setting up the scoring function ... done.\n",
      "Analyzing the binding site ... done.\n",
      "Using random seed: 379143952\n",
      "Performing search ... \n",
      "0%   10   20   30   40   50   60   70   80   90   100%\n",
      "|----|----|----|----|----|----|----|----|----|----|\n",
      "***************************************************\n",
      "done.\n",
      "Refining results ... done.\n",
      "\n",
      "mode |   affinity | dist from best mode\n",
      "     | (kcal/mol) | rmsd l.b.| rmsd u.b.\n",
      "-----+------------+----------+----------\n",
      "   1         -6.1      0.000      0.000\n",
      "   2         -5.9      0.712      1.794\n",
      "   3         -5.7      4.133     11.130\n",
      "   4         -5.7      6.522      7.620\n",
      "   5         -5.6      8.869     12.271\n",
      "   6         -5.6      6.614      7.877\n",
      "   7         -5.5      7.319     11.666\n",
      "   8         -5.4      8.586      9.697\n",
      "   9         -5.4      7.171     11.314\n",
      "Writing output ... done.\n",
      "\u001b[31m[20:22:03] vina STDOUT:\u001b[0m\n",
      "#################################################################\n",
      "# If you used AutoDock Vina in your work, please cite:          #\n",
      "#                                                               #\n",
      "# O. Trott, A. J. Olson,                                        #\n",
      "# AutoDock Vina: improving the speed and accuracy of docking    #\n",
      "# with a new scoring function, efficient optimization and       #\n",
      "# multithreading, Journal of Computational Chemistry 31 (2010)  #\n",
      "# 455-461                                                       #\n",
      "#                                                               #\n",
      "# DOI 10.1002/jcc.21334                                         #\n",
      "#                                                               #\n",
      "# Please see http://vina.scripps.edu for more information.      #\n",
      "#################################################################\n",
      "\n",
      "Reading input ... done.\n",
      "Setting up the scoring function ... done.\n",
      "Analyzing the binding site ... done.\n",
      "Using random seed: -166434944\n",
      "Performing search ... \n",
      "0%   10   20   30   40   50   60   70   80   90   100%\n",
      "|----|----|----|----|----|----|----|----|----|----|\n",
      "***************************************************\n",
      "done.\n",
      "Refining results ... done.\n",
      "\n",
      "mode |   affinity | dist from best mode\n",
      "     | (kcal/mol) | rmsd l.b.| rmsd u.b.\n",
      "-----+------------+----------+----------\n",
      "   1         -5.6      0.000      0.000\n",
      "   2         -5.4      5.134     12.485\n",
      "   3         -5.3      4.505     11.567\n",
      "   4         -5.1      5.967      7.022\n",
      "   5         -5.1      4.482     11.337\n",
      "   6         -5.1      1.605      2.723\n",
      "   7         -5.0     12.909     15.094\n",
      "   8         -5.0      7.775     11.716\n",
      "   9         -5.0      3.660      9.933\n",
      "Writing output ... done.\n",
      "\u001b[31m[20:22:06] vina STDOUT:\u001b[0m\n",
      "#################################################################\n",
      "# If you used AutoDock Vina in your work, please cite:          #\n",
      "#                                                               #\n",
      "# O. Trott, A. J. Olson,                                        #\n",
      "# AutoDock Vina: improving the speed and accuracy of docking    #\n",
      "# with a new scoring function, efficient optimization and       #\n",
      "# multithreading, Journal of Computational Chemistry 31 (2010)  #\n",
      "# 455-461                                                       #\n",
      "#                                                               #\n",
      "# DOI 10.1002/jcc.21334                                         #\n",
      "#                                                               #\n",
      "# Please see http://vina.scripps.edu for more information.      #\n",
      "#################################################################\n",
      "\n",
      "Reading input ... done.\n",
      "Setting up the scoring function ... done.\n",
      "Analyzing the binding site ... done.\n",
      "Using random seed: -1422372912\n",
      "Performing search ... \n",
      "0%   10   20   30   40   50   60   70   80   90   100%\n",
      "|----|----|----|----|----|----|----|----|----|----|\n",
      "***************************************************\n",
      "done.\n",
      "Refining results ... done.\n",
      "\n",
      "mode |   affinity | dist from best mode\n",
      "     | (kcal/mol) | rmsd l.b.| rmsd u.b.\n",
      "-----+------------+----------+----------\n",
      "   1         -5.4      0.000      0.000\n",
      "   2         -5.4      4.719     11.643\n",
      "   3         -5.3      4.719     11.686\n",
      "   4         -5.2      1.198      3.523\n",
      "   5         -5.1      8.605     12.003\n",
      "   6         -5.0      3.688      6.397\n",
      "   7         -4.9      4.421     10.954\n",
      "   8         -4.8      4.627     10.935\n",
      "   9         -4.8     11.960     15.571\n",
      "Writing output ... done.\n",
      "\u001b[31m[20:22:06] vina STDOUT:\u001b[0m\n",
      "#################################################################\n",
      "# If you used AutoDock Vina in your work, please cite:          #\n",
      "#                                                               #\n",
      "# O. Trott, A. J. Olson,                                        #\n",
      "# AutoDock Vina: improving the speed and accuracy of docking    #\n",
      "# with a new scoring function, efficient optimization and       #\n",
      "# multithreading, Journal of Computational Chemistry 31 (2010)  #\n",
      "# 455-461                                                       #\n",
      "#                                                               #\n",
      "# DOI 10.1002/jcc.21334                                         #\n",
      "#                                                               #\n",
      "# Please see http://vina.scripps.edu for more information.      #\n",
      "#################################################################\n",
      "\n",
      "Reading input ... done.\n",
      "Setting up the scoring function ... done.\n",
      "Analyzing the binding site ... done.\n",
      "Using random seed: 1289281888\n",
      "Performing search ... \n",
      "0%   10   20   30   40   50   60   70   80   90   100%\n",
      "|----|----|----|----|----|----|----|----|----|----|\n",
      "***************************************************\n",
      "done.\n",
      "Refining results ... done.\n",
      "\n",
      "mode |   affinity | dist from best mode\n",
      "     | (kcal/mol) | rmsd l.b.| rmsd u.b.\n",
      "-----+------------+----------+----------\n",
      "   1         -5.5      0.000      0.000\n",
      "   2         -5.4      4.658     11.722\n",
      "   3         -5.1      1.484      2.652\n",
      "   4         -5.1      4.490     11.452\n",
      "   5         -5.0      4.485     10.884\n",
      "   6         -5.0      7.437     11.155\n",
      "   7         -4.9      3.446      9.301\n",
      "   8         -4.9     13.283     15.358\n",
      "   9         -4.8     13.258     15.102\n",
      "Writing output ... done.\n"
     ]
    },
    {
     "name": "stdout",
     "output_type": "stream",
     "text": [
      "\u001b[31m[20:22:30] vina STDOUT:\u001b[0m\n",
      "#################################################################\n",
      "# If you used AutoDock Vina in your work, please cite:          #\n",
      "#                                                               #\n",
      "# O. Trott, A. J. Olson,                                        #\n",
      "# AutoDock Vina: improving the speed and accuracy of docking    #\n",
      "# with a new scoring function, efficient optimization and       #\n",
      "# multithreading, Journal of Computational Chemistry 31 (2010)  #\n",
      "# 455-461                                                       #\n",
      "#                                                               #\n",
      "# DOI 10.1002/jcc.21334                                         #\n",
      "#                                                               #\n",
      "# Please see http://vina.scripps.edu for more information.      #\n",
      "#################################################################\n",
      "\n",
      "Reading input ... done.\n",
      "Setting up the scoring function ... done.\n",
      "Analyzing the binding site ... done.\n",
      "Using random seed: -1627366144\n",
      "Performing search ... \n",
      "0%   10   20   30   40   50   60   70   80   90   100%\n",
      "|----|----|----|----|----|----|----|----|----|----|\n",
      "***************************************************\n",
      "done.\n",
      "Refining results ... done.\n",
      "\n",
      "mode |   affinity | dist from best mode\n",
      "     | (kcal/mol) | rmsd l.b.| rmsd u.b.\n",
      "-----+------------+----------+----------\n",
      "   1         -5.9      0.000      0.000\n",
      "   2         -5.7      2.850      6.878\n",
      "   3         -5.7     13.560     15.494\n",
      "   4         -5.6     11.879     14.480\n",
      "   5         -5.6      1.770      2.737\n",
      "   6         -5.6     15.169     18.093\n",
      "   7         -5.4      7.354     11.469\n",
      "   8         -5.4      3.020      6.807\n",
      "   9         -5.3      4.147      7.580\n",
      "Writing output ... done.\n",
      "\u001b[31m[20:23:03] vina STDOUT:\u001b[0m\n",
      "#################################################################\n",
      "# If you used AutoDock Vina in your work, please cite:          #\n",
      "#                                                               #\n",
      "# O. Trott, A. J. Olson,                                        #\n",
      "# AutoDock Vina: improving the speed and accuracy of docking    #\n",
      "# with a new scoring function, efficient optimization and       #\n",
      "# multithreading, Journal of Computational Chemistry 31 (2010)  #\n",
      "# 455-461                                                       #\n",
      "#                                                               #\n",
      "# DOI 10.1002/jcc.21334                                         #\n",
      "#                                                               #\n",
      "# Please see http://vina.scripps.edu for more information.      #\n",
      "#################################################################\n",
      "\n",
      "Reading input ... done.\n",
      "Setting up the scoring function ... done.\n",
      "Analyzing the binding site ... done.\n",
      "Using random seed: 1387811432\n",
      "Performing search ... \n",
      "0%   10   20   30   40   50   60   70   80   90   100%\n",
      "|----|----|----|----|----|----|----|----|----|----|\n",
      "***************************************************\n",
      "done.\n",
      "Refining results ... done.\n",
      "\n",
      "mode |   affinity | dist from best mode\n",
      "     | (kcal/mol) | rmsd l.b.| rmsd u.b.\n",
      "-----+------------+----------+----------\n",
      "   1         -5.9      0.000      0.000\n",
      "   2         -5.7      2.881     11.183\n",
      "   3         -5.7      0.673      1.551\n",
      "   4         -5.7      2.933     10.599\n",
      "   5         -5.6      8.520     11.785\n",
      "   6         -5.5      2.659      3.569\n",
      "   7         -5.5     13.779     17.836\n",
      "   8         -5.5      2.876     10.861\n",
      "   9         -5.3      6.834      7.854\n",
      "Writing output ... done.\n",
      "\u001b[31m[20:23:11] vina STDOUT:\u001b[0m\n",
      "#################################################################\n",
      "# If you used AutoDock Vina in your work, please cite:          #\n",
      "#                                                               #\n",
      "# O. Trott, A. J. Olson,                                        #\n",
      "# AutoDock Vina: improving the speed and accuracy of docking    #\n",
      "# with a new scoring function, efficient optimization and       #\n",
      "# multithreading, Journal of Computational Chemistry 31 (2010)  #\n",
      "# 455-461                                                       #\n",
      "#                                                               #\n",
      "# DOI 10.1002/jcc.21334                                         #\n",
      "#                                                               #\n",
      "# Please see http://vina.scripps.edu for more information.      #\n",
      "#################################################################\n",
      "\n",
      "Reading input ... done.\n",
      "Setting up the scoring function ... done.\n",
      "Analyzing the binding site ... done.\n",
      "Using random seed: -1861995920\n",
      "Performing search ... \n",
      "0%   10   20   30   40   50   60   70   80   90   100%\n",
      "|----|----|----|----|----|----|----|----|----|----|\n",
      "***************************************************\n",
      "done.\n",
      "Refining results ... done.\n",
      "\n",
      "mode |   affinity | dist from best mode\n",
      "     | (kcal/mol) | rmsd l.b.| rmsd u.b.\n",
      "-----+------------+----------+----------\n",
      "   1         -5.7      0.000      0.000\n",
      "   2         -5.5      8.004     11.641\n",
      "   3         -5.4      6.086     10.735\n",
      "   4         -5.4      4.705     11.339\n",
      "   5         -5.3      8.670     11.989\n",
      "   6         -5.1      9.494     12.678\n",
      "   7         -5.1     10.387     14.098\n",
      "   8         -5.1      9.678     12.220\n",
      "   9         -5.0      4.907     10.249\n",
      "Writing output ... done.\n"
     ]
    }
   ],
   "source": [
    "tic = time.time()\n",
    "g.run_prediction_on(nodes)\n",
    "toc = time.time()"
   ]
  },
  {
   "cell_type": "code",
   "execution_count": 8,
   "metadata": {},
   "outputs": [
    {
     "data": {
      "text/plain": [
       "172.83792233467102"
      ]
     },
     "execution_count": 8,
     "metadata": {},
     "output_type": "execute_result"
    }
   ],
   "source": [
    "toc-tic"
   ]
  },
  {
   "cell_type": "code",
   "execution_count": 15,
   "metadata": {},
   "outputs": [
    {
     "data": {
      "text/plain": [
       "molecule                      Molecule     2\n",
       "#stars                                     0\n",
       "#amine                                     1\n",
       "#amidine                                   0\n",
       "#acid                                      0\n",
       "#amide                                     0\n",
       "#rotor                                     4\n",
       "#rtvFG                                     0\n",
       "CNS                                        2\n",
       "mol_MW                                348.49\n",
       "dipole                                   0.0\n",
       "SASA                                 672.244\n",
       "FOSA                                 365.108\n",
       "FISA                                  22.861\n",
       "PISA                                 284.275\n",
       "WPSA                                     0.0\n",
       "volume                              1203.537\n",
       "donorHB                                  0.0\n",
       "accptHB                                  4.5\n",
       "dip^2/V                                  0.0\n",
       "ACxDN^.5/SA                              0.0\n",
       "glob                                0.813975\n",
       "QPpolrz                               42.158\n",
       "QPlogPC16                              11.57\n",
       "QPlogPoct                             15.774\n",
       "QPlogPw                                6.976\n",
       "QPlogPo/w                              4.603\n",
       "QPlogS                                -4.729\n",
       "CIQPlogS                              -4.338\n",
       "QPlogHERG                             -6.624\n",
       "QPPCaco                              1499.73\n",
       "QPlogBB                                0.491\n",
       "QPPMDCK                              848.163\n",
       "QPlogKp                               -2.618\n",
       "IP(eV)                                   0.0\n",
       "EA(eV)                                   0.0\n",
       "#metab                                     3\n",
       "QPlogKhsa                              0.738\n",
       "HumanOralAbsorption                        3\n",
       "PercentHumanOralAbsorption             100.0\n",
       "SAfluorine                               0.0\n",
       "SAamideO                                 0.0\n",
       "PSA                                   24.684\n",
       "#NandO                                     4\n",
       "RuleOfFive                                 0\n",
       "#ringatoms                                21\n",
       "#in34                                      0\n",
       "#in56                                     21\n",
       "#noncon                                    4\n",
       "#nonHatm                                  26\n",
       "RuleOfThree                                0\n",
       "Jm                                     0.016\n",
       "dock_score                              -5.9\n",
       "Name: 1, dtype: object"
      ]
     },
     "execution_count": 15,
     "metadata": {},
     "output_type": "execute_result"
    }
   ],
   "source": [
    "nodes[5].prop"
   ]
  },
  {
   "cell_type": "code",
   "execution_count": 4,
   "metadata": {},
   "outputs": [
    {
     "name": "stdout",
     "output_type": "stream",
     "text": [
      "-python STDOUT:\n",
      "ID\tSMILES\n",
      "1\tB#Cc1ccc(N2CCN(Cc3nc4ccccc4n3C)CC2)cc1\n",
      "2\tC#CC#Cn1c(CN2CCN(c3ccc(Cl)cc3)CC2)nc2ccccc21\n",
      "3\tC#CC(C)n1c(CN2CCN(c3ccc(Cl)cc3)CC2)nc2ccccc21\n",
      "4\tC#CC([O-])c1ccc(N2CCN(Cc3nc4ccccc4n3C)CC2)cc1\n",
      "5\tC#CCn1c(CN2CCN(c3ccc(Cl)cc3)CC2)nc2ccccc21\n",
      "6\tC#Cc1ccc(N2CCN(Cc3nc4ccccc4n3C)CC2)cc1\n",
      "7\tC#Cn1c(CN2CCN(c3ccc(Cl)cc3)CC2)nc2ccccc21\n",
      "8\tC/C(N)=C\\n1c(CN2CCN(c3ccc(Cl)cc3)CC2)nc2ccccc21\n",
      "9\tC/C=C/n1c(CN2CCN(c3ccc(Cl)cc3)CC2)nc2ccccc21\n",
      "10\tC=C(Br)Cn1c(CN2CCN(c3ccc(Cl)cc3)CC2)nc2ccccc21\n",
      "11\tC=C(C)Cn1c(CN2CCN(c3ccc(Cl)cc3)CC2)nc2ccccc21\n",
      "12\tC=C(C)n1c(CN2CCN(c3ccc(Cl)cc3)CC2)nc2ccccc21\n",
      "13\tC=C(Cl)Cn1c(CN2CCN(c3ccc(Cl)cc3)CC2)nc2ccccc21\n",
      "14\tC=C(P)n1c(CN2CCN(c3ccc(Cl)cc3)CC2)nc2ccccc21\n",
      "15\tC=CC(=O)c1ccc(N2CCN(Cc3nc4ccccc4n3C)CC2)cc1\n",
      "16\tC=CC(C)n1c(CN2CCN(c3ccc(Cl)cc3)CC2)nc2ccccc21\n",
      "17\tC=CC(O)c1ccc(N2CCN(Cc3nc4ccccc4n3C)CC2)cc1\n",
      "18\tC=CCCn1c(CN2CCN(c3ccc(Cl)cc3)CC2)nc2ccccc21\n",
      "19\tC=CCOc1ccc(N2CCN(Cc3nc4ccccc4n3C)CC2)cc1\n",
      "20\tC=CCOn1c(CN2CCN(c3ccc(Cl)cc3)CC2)nc2ccccc21\n",
      "21\tC=CCSc1ccc(N2CCN(Cc3nc4ccccc4n3C)CC2)cc1\n",
      "22\tC=CC[CH]c1ccc(N2CCN(Cc3nc4ccccc4n3C)CC2)cc1\n",
      "23\tC=CCc1ccc(N2CCN(Cc3nc4ccccc4n3C)CC2)cc1\n",
      "24\tC=CCn1c(CN2CCN(c3ccc(Cl)cc3)CC2)nc2ccccc21\n",
      "25\tC=COn1c(CN2CCN(c3ccc(Cl)cc3)CC2)nc2ccccc21\n",
      "26\tC=Cc1ccc(N2CCN(Cc3nc4ccccc4n3C)CC2)cc1\n",
      "27\tC=Cn1c(CN2CCN(c3ccc(Cl)cc3)CC2)nc2ccccc21\n",
      "28\tCC#CCn1c(CN2CCN(c3ccc(Cl)cc3)CC2)nc2ccccc21\n",
      "29\tCC#Cn1c(CN2CCN(c3ccc(Cl)cc3)CC2)nc2ccccc21\n",
      "30\tCC(=O)Cn1c(CN2CCN(c3ccc(Cl)cc3)CC2)nc2ccccc21\n",
      "31\tCC(=O)Nc1ccc(N2CCN(Cc3nc4ccccc4n3C)CC2)cc1\n",
      "32\tCC(=O)Nn1c(CN2CCN(c3ccc(Cl)cc3)CC2)nc2ccccc21\n",
      "33\tCC(=O)Oc1ccc(N2CCN(Cc3nc4ccccc4n3C)CC2)cc1\n",
      "34\tCC(=O)On1c(CN2CCN(c3ccc(Cl)cc3)CC2)nc2ccccc21\n",
      "35\tCC(=O)c1ccc(N2CCN(Cc3nc4ccccc4n3C)CC2)cc1\n",
      "36\tCC(=O)n1c(CN2CCN(c3ccc(Cl)cc3)CC2)nc2ccccc21\n",
      "37\tCC(C#N)n1c(CN2CCN(c3ccc(Cl)cc3)CC2)nc2ccccc21\n",
      "38\tCC(C)(Br)n1c(CN2CCN(c3ccc(Cl)cc3)CC2)nc2ccccc21\n",
      "39\tCC(C)(C)n1c(CN2CCN(c3ccc(Cl)cc3)CC2)nc2ccccc21\n",
      "40\tCC(C)=Cn1c(CN2CCN(c3ccc(Cl)cc3)CC2)nc2ccccc21\n",
      "41\tCC(C)C(c1nc2ccccc2n1C)N1CCN(c2ccc(Cl)cc2)CC1\n",
      "42\tCC(C)Cc1ccc(N2CCN(Cc3nc4ccccc4n3C)CC2)cc1\n",
      "43\tCC(C)Cn1c(CN2CCN(c3ccc(Cl)cc3)CC2)nc2ccccc21\n",
      "44\tCC(C)Nc1ccc(N2CCN(Cc3nc4ccccc4n3C)CC2)cc1\n",
      "45\tCC(C)Nn1c(CN2CCN(c3ccc(Cl)cc3)CC2)nc2ccccc21\n",
      "46\tCC(C)Oc1ccc(N2CCN(Cc3nc4ccccc4n3C)CC2)cc1\n",
      "47\tCC(C)On1c(CN2CCN(c3ccc(Cl)cc3)CC2)nc2ccccc21\n",
      "48\tCC(C)c1ccc(N2CCN(Cc3nc4ccccc4n3C)CC2)cc1\n",
      "49\tCC(C)n1c(CN2CCN(c3ccc(Cl)cc3)CC2)nc2ccccc21\n",
      "50\tCC(CCN1CCN(c2ccc(Cl)cc2)CC1)c1nc2ccccc2n1C\n",
      "51\tCC(CCc1nc2ccccc2n1C)N1CCN(c2ccc(Cl)cc2)CC1\n",
      "52\tCC(CN)c1ccc(N2CCN(Cc3nc4ccccc4n3C)CC2)cc1\n",
      "53\tCC(CN1CCN(c2ccc(Cl)cc2)CC1)c1nc2ccccc2n1C\n",
      "54\tCC(CO)n1c(CN2CCN(c3ccc(Cl)cc3)CC2)nc2ccccc21\n",
      "55\tCC(Cc1nc2ccccc2n1C)CN1CCN(c2ccc(Cl)cc2)CC1\n",
      "56\tCC(Cc1nc2ccccc2n1C)N1CCN(c2ccc(Cl)cc2)CC1\n",
      "57\tCC(Cl)(I)n1c(CN2CCN(c3ccc(Cl)cc3)CC2)nc2ccccc21\n",
      "58\tCC(Cl)Cn1c(CN2CCN(c3ccc(Cl)cc3)CC2)nc2ccccc21\n",
      "59\tCC(Cl)c1ccc(N2CCN(Cc3nc4ccccc4n3C)CC2)cc1\n",
      "60\tCC(Cl)n1c(CN2CCN(c3ccc(Cl)cc3)CC2)nc2ccccc21\n",
      "61\tCC(N)(O)n1c(CN2CCN(c3ccc(Cl)cc3)CC2)nc2ccccc21\n",
      "62\tCC(N)Cn1c(CN2CCN(c3ccc(Cl)cc3)CC2)nc2ccccc21\n",
      "63\tCC(N)n1c(CN2CCN(c3ccc(Cl)cc3)CC2)nc2ccccc21\n",
      "64\tCC(O)(I)n1c(CN2CCN(c3ccc(Cl)cc3)CC2)nc2ccccc21\n",
      "65\tCC(O)C(c1nc2ccccc2n1C)N1CCN(c2ccc(Cl)cc2)CC1\n",
      "66\tCC(O)Cn1c(CN2CCN(c3ccc(Cl)cc3)CC2)nc2ccccc21\n",
      "67\tCC(O)n1c(CN2CCN(c3ccc(Cl)cc3)CC2)nc2ccccc21\n",
      "68\tCC(OCN1CCN(c2ccc(Cl)cc2)CC1)c1nc2ccccc2n1C\n",
      "69\tCC(OCc1nc2ccccc2n1C)N1CCN(c2ccc(Cl)cc2)CC1\n",
      "70\tCC(ON1CCN(c2ccc(Cl)cc2)CC1)c1nc2ccccc2n1C\n",
      "71\tCC(Oc1nc2ccccc2n1C)N1CCN(c2ccc(Cl)cc2)CC1\n",
      "72\tCC(S)Cn1c(CN2CCN(c3ccc(Cl)cc3)CC2)nc2ccccc21\n",
      "73\tCC([SiH]=O)c1ccc(N2CCN(Cc3nc4ccccc4n3C)CC2)cc1\n",
      "74\tCC(c1nc2ccccc2n1C)C(C)N1CCN(c2ccc(Cl)cc2)CC1\n",
      "75\tCC(c1nc2ccccc2n1C)N1CCN(c2ccc(Cl)cc2)CC1\n",
      "76\tCC/C=C/n1c(CN2CCN(c3ccc(Cl)cc3)CC2)nc2ccccc21\n",
      "77\tCC1(n2c(CN3CCN(c4ccc(Cl)cc4)CC3)nc3ccccc32)CC1\n",
      "78\tCC1=NN1c1ccc(N2CCN(Cc3nc4ccccc4n3C)CC2)cc1\n",
      "79\tCC1CC1n1c(CN2CCN(c3ccc(Cl)cc3)CC2)nc2ccccc21\n",
      "80\tCCC(C)(c1nc2ccccc2n1C)N1CCN(c2ccc(Cl)cc2)CC1\n",
      "81\tCCC(C)c1ccc(N2CCN(Cc3nc4ccccc4n3C)CC2)cc1\n",
      "82\tCCC(C)n1c(CN2CCN(c3ccc(Cl)cc3)CC2)nc2ccccc21\n",
      "83\tCCC(CN1CCN(c2ccc(Cl)cc2)CC1)c1nc2ccccc2n1C\n",
      "84\tCCC(Cc1nc2ccccc2n1C)N1CCN(c2ccc(Cl)cc2)CC1\n",
      "85\tCCC(F)n1c(CN2CCN(c3ccc(Cl)cc3)CC2)nc2ccccc21\n",
      "86\tCCC(N)c1ccc(N2CCN(Cc3nc4ccccc4n3C)CC2)cc1\n",
      "87\tCCC(c1nc2ccccc2n1C)N1CCN(c2ccc(Cl)cc2)CC1\n",
      "88\tCCC=C(c1nc2ccccc2n1C)N1CCN(c2ccc(Cl)cc2)CC1\n",
      "89\tCCCC(c1nc2ccccc2n1C)N1CCN(c2ccc(Cl)cc2)CC1\n",
      "90\tCCCCc1ccc(N2CCN(Cc3nc4ccccc4n3C)CC2)cc1\n",
      "91\tCCCCn1c(CN2CCN(c3ccc(Cl)cc3)CC2)nc2ccccc21\n",
      "92\tCCCNc1ccc(N2CCN(Cc3nc4ccccc4n3C)CC2)cc1\n",
      "93\tCCCOc1ccc(N2CCN(Cc3nc4ccccc4n3C)CC2)cc1\n",
      "94\tCCCOn1c(CN2CCN(c3ccc(Cl)cc3)CC2)nc2ccccc21\n",
      "95\tCCCSc1ccc(N2CCN(Cc3nc4ccccc4n3C)CC2)cc1\n",
      "96\tCCCc1ccc(N2CCN(Cc3nc4ccccc4n3C)CC2)cc1\n",
      "97\tCCCn1c(CN2CCN(c3ccc(Cl)cc3)CC2)nc2ccccc21\n",
      "98\tCCN(C)c1ccc(N2CCN(Cc3nc4ccccc4n3C)CC2)cc1\n",
      "99\tCCNCn1c(CN2CCN(c3ccc(Cl)cc3)CC2)nc2ccccc21\n",
      "100\tCCNc1ccc(N2CCN(Cc3nc4ccccc4n3C)CC2)cc1\n",
      "101\tCCOC(c1nc2ccccc2n1C)N1CCN(c2ccc(Cl)cc2)CC1\n",
      "102\tCCOCn1c(CN2CCN(c3ccc(Cl)cc3)CC2)nc2ccccc21\n",
      "103\tCCO[Sb]c1ccc(N2CCN(Cc3nc4ccccc4n3C)CC2)cc1\n",
      "104\tCCOc1ccc(N2CCN(Cc3nc4ccccc4n3C)CC2)cc1\n",
      "105\tCCOn1c(CN2CCN(c3ccc(Cl)cc3)CC2)nc2ccccc21\n",
      "106\tCCSc1ccc(N2CCN(Cc3nc4ccccc4n3C)CC2)cc1\n",
      "107\tCCSn1c(CN2CCN(c3ccc(Cl)cc3)CC2)nc2ccccc21\n",
      "108\tCC[C@@H](C)c1ccc(N2CCN(Cc3nc4ccccc4n3C)CC2)cc1\n",
      "109\tCC[C@@H](C)n1c(CN2CCN(c3ccc(Cl)cc3)CC2)nc2ccccc21\n",
      "110\tCC[C@H](C)c1ccc(N2CCN(Cc3nc4ccccc4n3C)CC2)cc1\n",
      "111\tCC[C@H](C)n1c(CN2CCN(c3ccc(Cl)cc3)CC2)nc2ccccc21\n",
      "112\tCC[C@H](S)n1c(CN2CCN(c3ccc(Cl)cc3)CC2)nc2ccccc21\n",
      "113\tCCc1ccc(N2CCN(Cc3nc4ccccc4n3C)CC2)cc1\n",
      "114\tCCn1c(CN2CCN(c3ccc(Cl)cc3)CC2)nc2ccccc21\n",
      "115\tCN(C(=O)N1CCN(c2ccc(Cl)cc2)CC1)c1nc2ccccc2n1C\n",
      "116\tCN(C(=O)c1nc2ccccc2n1C)N1CCN(c2ccc(Cl)cc2)CC1\n",
      "117\tCN(C)Cn1c(CN2CCN(c3ccc(Cl)cc3)CC2)nc2ccccc21\n",
      "118\tCN(C)c1ccc(N2CCN(Cc3nc4ccccc4n3C)CC2)cc1\n",
      "119\tCN(C)n1c(CN2CCN(c3ccc(Cl)cc3)CC2)nc2ccccc21\n",
      "120\tCN([SiH3])n1c(CN2CCN(c3ccc(Cl)cc3)CC2)nc2ccccc21\n",
      "121\tCN1N=C1c1ccc(N2CCN(Cc3nc4ccccc4n3C)CC2)cc1\n",
      "122\tCN=Cc1ccc(N2CCN(Cc3nc4ccccc4n3C)CC2)cc1\n",
      "123\tCNC(=O)n1c(CN2CCN(c3ccc(Cl)cc3)CC2)nc2ccccc21\n",
      "124\tCNCCn1c(CN2CCN(c3ccc(Cl)cc3)CC2)nc2ccccc21\n",
      "125\tCNCn1c(CN2CCN(c3ccc(Cl)cc3)CC2)nc2ccccc21\n",
      "126\tCNc1ccc(N2CCN(Cc3nc4ccccc4n3C)CC2)cc1\n",
      "127\tCNn1c(CN2CCN(c3ccc(Cl)cc3)CC2)nc2ccccc21\n",
      "128\tCOC(=O)c1ccc(N2CCN(Cc3nc4ccccc4n3C)CC2)cc1\n",
      "129\tCOC(=O)n1c(CN2CCN(c3ccc(Cl)cc3)CC2)nc2ccccc21\n",
      "130\tCOC(CN1CCN(c2ccc(Cl)cc2)CC1)c1nc2ccccc2n1C\n",
      "131\tCOC(Cc1nc2ccccc2n1C)N1CCN(c2ccc(Cl)cc2)CC1\n",
      "132\tCOC(c1nc2ccccc2n1C)N1CCN(c2ccc(Cl)cc2)CC1\n",
      "133\tCOCCn1c(CN2CCN(c3ccc(Cl)cc3)CC2)nc2ccccc21\n",
      "134\tCOCOn1c(CN2CCN(c3ccc(Cl)cc3)CC2)nc2ccccc21\n",
      "135\tCOCc1ccc(N2CCN(Cc3nc4ccccc4n3C)CC2)cc1\n",
      "136\tCOCn1c(CN2CCN(c3ccc(Cl)cc3)CC2)nc2ccccc21\n",
      "137\tCO[C@@H](CN1CCN(c2ccc(Cl)cc2)CC1)c1nc2ccccc2n1C\n",
      "138\tCO[C@@H](Cc1nc2ccccc2n1C)N1CCN(c2ccc(Cl)cc2)CC1\n",
      "139\tCO[C@H](CN1CCN(c2ccc(Cl)cc2)CC1)c1nc2ccccc2n1C\n",
      "140\tCO[C@H](Cc1nc2ccccc2n1C)N1CCN(c2ccc(Cl)cc2)CC1\n",
      "141\tCOc1ccc(N2CCN(Cc3nc4ccccc4n3C)CC2)cc1\n",
      "142\tCOn1c(CN2CCN(c3ccc(Cl)cc3)CC2)nc2ccccc21\n",
      "143\tCPn1c(CN2CCN(c3ccc(Cl)cc3)CC2)nc2ccccc21\n",
      "144\tCS(=O)(=O)n1c(CN2CCN(c3ccc(Cl)cc3)CC2)nc2ccccc21\n",
      "145\tCS(=O)n1c(CN2CCN(c3ccc(Cl)cc3)CC2)nc2ccccc21\n",
      "146\tCSCCn1c(CN2CCN(c3ccc(Cl)cc3)CC2)nc2ccccc21\n",
      "147\tCSc1ccc(N2CCN(Cc3nc4ccccc4n3C)CC2)cc1\n",
      "148\tCSn1c(CN2CCN(c3ccc(Cl)cc3)CC2)nc2ccccc21\n",
      "149\tC[C@@H](C#N)n1c(CN2CCN(c3ccc(Cl)cc3)CC2)nc2ccccc21\n",
      "150\tC[C@@H](CCN1CCN(c2ccc(Cl)cc2)CC1)c1nc2ccccc2n1C\n",
      "151\tC[C@@H](CCc1nc2ccccc2n1C)N1CCN(c2ccc(Cl)cc2)CC1\n",
      "152\tC[C@@H](CN)n1c(CN2CCN(c3ccc(Cl)cc3)CC2)nc2ccccc21\n",
      "153\tC[C@@H](CN1CCN(c2ccc(Cl)cc2)CC1)c1nc2ccccc2n1C\n",
      "154\tC[C@@H](CO)n1c(CN2CCN(c3ccc(Cl)cc3)CC2)nc2ccccc21\n",
      "155\tC[C@@H](Cc1nc2ccccc2n1C)N1CCN(c2ccc(Cl)cc2)CC1\n",
      "156\tC[C@@H]([SiH]=O)c1ccc(N2CCN(Cc3nc4ccccc4n3C)CC2)cc1\n",
      "157\tC[C@H](C#N)n1c(CN2CCN(c3ccc(Cl)cc3)CC2)nc2ccccc21\n",
      "158\tC[C@H](CCN1CCN(c2ccc(Cl)cc2)CC1)c1nc2ccccc2n1C\n",
      "159\tC[C@H](CCc1nc2ccccc2n1C)N1CCN(c2ccc(Cl)cc2)CC1\n",
      "160\tC[C@H](CN)n1c(CN2CCN(c3ccc(Cl)cc3)CC2)nc2ccccc21\n",
      "161\tC[C@H](CN1CCN(c2ccc(Cl)cc2)CC1)c1nc2ccccc2n1C\n",
      "162\tC[C@H](CO)n1c(CN2CCN(c3ccc(Cl)cc3)CC2)nc2ccccc21\n",
      "163\tC[C@H](Cc1nc2ccccc2n1C)N1CCN(c2ccc(Cl)cc2)CC1\n",
      "164\tC[C@H]([SiH]=O)c1ccc(N2CCN(Cc3nc4ccccc4n3C)CC2)cc1\n",
      "165\tC[CH]Cn1c(CN2CCN(c3ccc(Cl)cc3)CC2)nc2ccccc21\n",
      "166\tC[C](C)Cn1c(CN2CCN(c3ccc(Cl)cc3)CC2)nc2ccccc21\n",
      "167\tC[N+](C)(C)n1c(CN2CCN(c3ccc(Cl)cc3)CC2)nc2ccccc21\n",
      "168\tCc1ccc(N2CCN(Cc3nc4ccccc4n3C)CC2)cc1\n",
      "169\tClCCCn1c(CN2CCN(c3ccc(Cl)cc3)CC2)nc2ccccc21\n",
      "170\tClCCn1c(CN2CCN(c3ccc(Cl)cc3)CC2)nc2ccccc21\n",
      "171\tClCn1c(CN2CCN(c3ccc(Cl)cc3)CC2)nc2ccccc21\n",
      "172\tClc1ccc(N2CCN(Cc3nc4ccccc4[nH]3)CC2)cc1\n",
      "173\tClc1ccc(N2CCN(Cc3nc4ccccc4n3Br)CC2)cc1\n",
      "174\tClc1ccc(N2CCN(Cc3nc4ccccc4n3C(Cl)(Cl)Cl)CC2)cc1\n",
      "175\tClc1ccc(N2CCN(Cc3nc4ccccc4n3C3CC3)CC2)cc1\n",
      "176\tClc1ccc(N2CCN(Cc3nc4ccccc4n3C3CCC3)CC2)cc1\n",
      "177\tClc1ccc(N2CCN(Cc3nc4ccccc4n3CBr)CC2)cc1\n",
      "178\tClc1ccc(N2CCN(Cc3nc4ccccc4n3CC3=CC3)CC2)cc1\n",
      "179\tClc1ccc(N2CCN(Cc3nc4ccccc4n3CC3CC3)CC2)cc1\n",
      "180\tClc1ccc(N2CCN(Cc3nc4ccccc4n3Cl)CC2)cc1\n",
      "181\tClc1ccc(N2CCN(Cc3nc4ccccc4n3I)CC2)cc1\n",
      "182\tClc1ccc(N2CCN(Cc3nc4ccccc4n3OCCBr)CC2)cc1\n",
      "183\tCn1c(/C=C/CN2CCN(c3ccc(Cl)cc3)CC2)nc2ccccc21\n",
      "184\tCn1c(/C=C/N2CCN(c3ccc(Cl)cc3)CC2)nc2ccccc21\n",
      "185\tCn1c(/C=C\\N2CCN(c3ccc(Cl)cc3)CC2)nc2ccccc21\n",
      "186\tCn1c(C#CCN2CCN(c3ccc(Cl)cc3)CC2)nc2ccccc21\n",
      "187\tCn1c(C(=CO)N2CCN(c3ccc(Cl)cc3)CC2)nc2ccccc21\n",
      "188\tCn1c(C(=N)N2CCN(c3ccc(Cl)cc3)CC2)nc2ccccc21\n",
      "189\tCn1c(C(=O)CCN2CCN(c3ccc(Cl)cc3)CC2)nc2ccccc21\n",
      "190\tCn1c(C(=O)CN2CCN(c3ccc(Cl)cc3)CC2)nc2ccccc21\n",
      "191\tCn1c(C(=O)N2CCN(c3ccc(Cl)cc3)CC2)nc2ccccc21\n",
      "192\tCn1c(C(=O)NCN2CCN(c3ccc(Cl)cc3)CC2)nc2ccccc21\n",
      "193\tCn1c(C(=O)OCN2CCN(c3ccc(Cl)cc3)CC2)nc2ccccc21\n",
      "194\tCn1c(C(Br)(Br)CN2CCN(c3ccc(Cl)cc3)CC2)nc2ccccc21\n",
      "195\tCn1c(C(Br)(CBr)N2CCN(c3ccc(Cl)cc3)CC2)nc2ccccc21\n",
      "196\tCn1c(C(Br)N2CCN(c3ccc(Cl)cc3)CC2)nc2ccccc21\n",
      "197\tCn1c(C(C#N)CN2CCN(c3ccc(Cl)cc3)CC2)nc2ccccc21\n",
      "198\tCn1c(C(C#N)N2CCN(c3ccc(Cl)cc3)CC2)nc2ccccc21\n",
      "199\tCn1c(C(C(=O)O)N2CCN(c3ccc(Cl)cc3)CC2)nc2ccccc21\n",
      "200\tCn1c(C(C)(C)CN2CCN(c3ccc(Cl)cc3)CC2)nc2ccccc21\n",
      "201\tCn1c(C(C)(C)N2CCN(c3ccc(Cl)cc3)CC2)nc2ccccc21\n",
      "202\tCn1c(C(C)(C)ON2CCN(c3ccc(Cl)cc3)CC2)nc2ccccc21\n",
      "203\tCn1c(C(C=O)N2CCN(c3ccc(Cl)cc3)CC2)nc2ccccc21\n",
      "204\tCn1c(C(CN)N2CCN(c3ccc(Cl)cc3)CC2)nc2ccccc21\n",
      "205\tCn1c(C(CO)CN2CCN(c3ccc(Cl)cc3)CC2)nc2ccccc21\n",
      "206\tCn1c(C(CO)N2CCN(c3ccc(Cl)cc3)CC2)nc2ccccc21\n",
      "207\tCn1c(C(CS)N2CCN(c3ccc(Cl)cc3)CC2)nc2ccccc21\n",
      "208\tCn1c(C(C[18F])N2CCN(c3ccc(Cl)cc3)CC2)nc2ccccc21\n",
      "209\tCn1c(C(Cl)(Cl)CN2CCN(c3ccc(Cl)cc3)CC2)nc2ccccc21\n",
      "210\tCn1c(C(Cl)(Cl)N2CCN(c3ccc(Cl)cc3)CC2)nc2ccccc21\n",
      "211\tCn1c(C(Cl)N2CCN(c3ccc(Cl)cc3)CC2)nc2ccccc21\n",
      "212\tCn1c(C(F)(F)CN2CCN(c3ccc(Cl)cc3)CC2)nc2ccccc21\n",
      "213\tCn1c(C(F)(F)N2CCN(c3ccc(Cl)cc3)CC2)nc2ccccc21\n",
      "214\tCn1c(C(F)N2CCN(c3ccc(Cl)cc3)CC2)nc2ccccc21\n",
      "215\tCn1c(C(F)ON2CCN(c3ccc(Cl)cc3)CC2)nc2ccccc21\n",
      "216\tCn1c(C(N)N2CCN(c3ccc(Cl)cc3)CC2)nc2ccccc21\n",
      "217\tCn1c(C(NN)N2CCN(c3ccc(Cl)cc3)CC2)nc2ccccc21\n",
      "218\tCn1c(C(O)CN2CCN(c3ccc(Cl)cc3)CC2)nc2ccccc21\n",
      "219\tCn1c(C(O)N2CCN(c3ccc(Cl)cc3)CC2)nc2ccccc21\n",
      "220\tCn1c(C/C=C/N2CCN(c3ccc(Cl)cc3)CC2)nc2ccccc21\n",
      "221\tCn1c(C/C=C\\CN2CCN(c3ccc(Cl)cc3)CC2)nc2ccccc21\n",
      "222\tCn1c(C2(N3CCN(c4ccc(Cl)cc4)CC3)CC2)nc2ccccc21\n",
      "223\tCn1c(C2(N3CCN(c4ccc(Cl)cc4)CC3)CCC2)nc2ccccc21\n",
      "224\tCn1c(C2(N3CCN(c4ccc(Cl)cc4)CC3)COC2)nc2ccccc21\n",
      "225\tCn1c(C2CC2N2CCN(c3ccc(Cl)cc3)CC2)nc2ccccc21\n",
      "226\tCn1c(C=CN2CCN(c3ccc(Cl)cc3)CC2)nc2ccccc21\n",
      "227\tCn1c(CC#CN2CCN(c3ccc(Cl)cc3)CC2)nc2ccccc21\n",
      "228\tCn1c(CC(=O)CN2CCN(c3ccc(Cl)cc3)CC2)nc2ccccc21\n",
      "229\tCn1c(CC(=O)N2CCN(c3ccc(Cl)cc3)CC2)nc2ccccc21\n",
      "230\tCn1c(CC(=O)NN2CCN(c3ccc(Cl)cc3)CC2)nc2ccccc21\n",
      "231\tCn1c(CC(Br)(Br)N2CCN(c3ccc(Cl)cc3)CC2)nc2ccccc21\n",
      "232\tCn1c(CC(C#N)N2CCN(c3ccc(Cl)cc3)CC2)nc2ccccc21\n",
      "233\tCn1c(CC(C)(C)N2CCN(c3ccc(Cl)cc3)CC2)nc2ccccc21\n",
      "234\tCn1c(CC(CO)N2CCN(c3ccc(Cl)cc3)CC2)nc2ccccc21\n",
      "235\tCn1c(CC(Cl)(Cl)N2CCN(c3ccc(Cl)cc3)CC2)nc2ccccc21\n",
      "236\tCn1c(CC(F)(F)N2CCN(c3ccc(Cl)cc3)CC2)nc2ccccc21\n",
      "237\tCn1c(CC(O)CN2CCN(c3ccc(Cl)cc3)CC2)nc2ccccc21\n",
      "238\tCn1c(CC(O)N2CCN(c3ccc(Cl)cc3)CC2)nc2ccccc21\n",
      "239\tCn1c(CCC(=O)N2CCN(c3ccc(Cl)cc3)CC2)nc2ccccc21\n",
      "240\tCn1c(CCCCN2CCN(c3ccc(Cl)cc3)CC2)nc2ccccc21\n",
      "241\tCn1c(CCCN2CCN(c3ccc(Cl)cc3)CC2)nc2ccccc21\n",
      "242\tCn1c(CCCNN2CCN(c3ccc(Cl)cc3)CC2)nc2ccccc21\n",
      "243\tCn1c(CCCON2CCN(c3ccc(Cl)cc3)CC2)nc2ccccc21\n",
      "244\tCn1c(CCCSN2CCN(c3ccc(Cl)cc3)CC2)nc2ccccc21\n",
      "245\tCn1c(CCN2CCN(c3ccc(Cl)cc3)CC2)nc2ccccc21\n",
      "246\tCn1c(CCNCN2CCN(c3ccc(Cl)cc3)CC2)nc2ccccc21\n",
      "247\tCn1c(CCNN2CCN(c3ccc(Cl)cc3)CC2)nc2ccccc21\n",
      "248\tCn1c(CCOCN2CCN(c3ccc(Cl)cc3)CC2)nc2ccccc21\n",
      "249\tCn1c(CCON2CCN(c3ccc(Cl)cc3)CC2)nc2ccccc21\n",
      "250\tCn1c(CCSCN2CCN(c3ccc(Cl)cc3)CC2)nc2ccccc21\n",
      "251\tCn1c(CCSN2CCN(c3ccc(Cl)cc3)CC2)nc2ccccc21\n",
      "252\tCn1c(CN2CCN(c3ccc(/C=C/N)cc3)CC2)nc2ccccc21\n",
      "253\tCn1c(CN2CCN(c3ccc(/C=C/[HgH])cc3)CC2)nc2ccccc21\n",
      "254\tCn1c(CN2CCN(c3ccc(/C=C\\N)cc3)CC2)nc2ccccc21\n",
      "255\tCn1c(CN2CCN(c3ccc(Br)cc3)CC2)nc2ccccc21\n",
      "256\tCn1c(CN2CCN(c3ccc(C#N)cc3)CC2)nc2ccccc21\n",
      "257\tCn1c(CN2CCN(c3ccc(C(=O)C=O)cc3)CC2)nc2ccccc21\n",
      "258\tCn1c(CN2CCN(c3ccc(C(=O)NN)cc3)CC2)nc2ccccc21\n",
      "259\tCn1c(CN2CCN(c3ccc(C(=O)O)cc3)CC2)nc2ccccc21\n",
      "260\tCn1c(CN2CCN(c3ccc(C(=O)[O-])cc3)CC2)nc2ccccc21\n",
      "261\tCn1c(CN2CCN(c3ccc(C(C)(C)C)cc3)CC2)nc2ccccc21\n",
      "262\tCn1c(CN2CCN(c3ccc(C(C)(C)[O-])cc3)CC2)nc2ccccc21\n",
      "263\tCn1c(CN2CCN(c3ccc(C(F)(F)F)cc3)CC2)nc2ccccc21\n",
      "264\tCn1c(CN2CCN(c3ccc(C(F)F)cc3)CC2)nc2ccccc21\n",
      "265\tCn1c(CN2CCN(c3ccc(C(N)=NN)cc3)CC2)nc2ccccc21\n",
      "266\tCn1c(CN2CCN(c3ccc(C(N)=NO)cc3)CC2)nc2ccccc21\n",
      "267\tCn1c(CN2CCN(c3ccc(C(N)=O)cc3)CC2)nc2ccccc21\n",
      "268\tCn1c(CN2CCN(c3ccc(C(O)(Cl)I)cc3)CC2)nc2ccccc21\n",
      "269\tCn1c(CN2CCN(c3ccc(C4CC4)cc3)CC2)nc2ccccc21\n",
      "270\tCn1c(CN2CCN(c3ccc(C4CNC4)cc3)CC2)nc2ccccc21\n",
      "271\tCn1c(CN2CCN(c3ccc(C=O)cc3)CC2)nc2ccccc21\n",
      "272\tCn1c(CN2CCN(c3ccc(C=S)cc3)CC2)nc2ccccc21\n",
      "273\tCn1c(CN2CCN(c3ccc(CBr)cc3)CC2)nc2ccccc21\n",
      "274\tCn1c(CN2CCN(c3ccc(CC#N)cc3)CC2)nc2ccccc21\n",
      "275\tCn1c(CN2CCN(c3ccc(CC(=O)O)cc3)CC2)nc2ccccc21\n",
      "276\tCn1c(CN2CCN(c3ccc(CC(N)=O)cc3)CC2)nc2ccccc21\n",
      "277\tCn1c(CN2CCN(c3ccc(CCBr)cc3)CC2)nc2ccccc21\n",
      "278\tCn1c(CN2CCN(c3ccc(CCCl)cc3)CC2)nc2ccccc21\n",
      "279\tCn1c(CN2CCN(c3ccc(CCl)cc3)CC2)nc2ccccc21\n",
      "280\tCn1c(CN2CCN(c3ccc(CO)cc3)CC2)nc2ccccc21\n",
      "281\tCn1c(CN2CCN(c3ccc(F)cc3)CC2)nc2ccccc21\n",
      "282\tCn1c(CN2CCN(c3ccc(I)cc3)CC2)nc2ccccc21\n",
      "283\tCn1c(CN2CCN(c3ccc(N(N)NI)cc3)CC2)nc2ccccc21\n",
      "284\tCn1c(CN2CCN(c3ccc(N)cc3)CC2)nc2ccccc21\n",
      "285\tCn1c(CN2CCN(c3ccc(N=O)cc3)CC2)nc2ccccc21\n",
      "286\tCn1c(CN2CCN(c3ccc(N=[N+]=[N-])cc3)CC2)nc2ccccc21\n",
      "287\tCn1c(CN2CCN(c3ccc(NC4CC4)cc3)CC2)nc2ccccc21\n",
      "288\tCn1c(CN2CCN(c3ccc(NC=O)cc3)CC2)nc2ccccc21\n",
      "289\tCn1c(CN2CCN(c3ccc(NCCN)cc3)CC2)nc2ccccc21\n",
      "290\tCn1c(CN2CCN(c3ccc(NCCO)cc3)CC2)nc2ccccc21\n",
      "291\tCn1c(CN2CCN(c3ccc(NN)cc3)CC2)nc2ccccc21\n",
      "292\tCn1c(CN2CCN(c3ccc(O)cc3)CC2)nc2ccccc21\n",
      "293\tCn1c(CN2CCN(c3ccc(OC(F)F)cc3)CC2)nc2ccccc21\n",
      "294\tCn1c(CN2CCN(c3ccc(OCCCl)cc3)CC2)nc2ccccc21\n",
      "295\tCn1c(CN2CCN(c3ccc(OCC[18F])cc3)CC2)nc2ccccc21\n",
      "296\tCn1c(CN2CCN(c3ccc(P(C)(C)=O)cc3)CC2)nc2ccccc21\n",
      "297\tCn1c(CN2CCN(c3ccc(P(O)O)cc3)CC2)nc2ccccc21\n",
      "298\tCn1c(CN2CCN(c3ccc(S(C)(=O)=O)cc3)CC2)nc2ccccc21\n",
      "299\tCn1c(CN2CCN(c3ccc(S(C)=O)cc3)CC2)nc2ccccc21\n",
      "300\tCn1c(CN2CCN(c3ccc(S(N)(=O)=O)cc3)CC2)nc2ccccc21\n",
      "301\tCn1c(CN2CCN(c3ccc(S)cc3)CC2)nc2ccccc21\n",
      "302\tCn1c(CN2CCN(c3ccc(SC#N)cc3)CC2)nc2ccccc21\n",
      "303\tCn1c(CN2CCN(c3ccc(SI=O)cc3)CC2)nc2ccccc21\n",
      "304\tCn1c(CN2CCN(c3ccc(S[OH2+])cc3)CC2)nc2ccccc21\n",
      "305\tCn1c(CN2CCN(c3ccc(S[Si])cc3)CC2)nc2ccccc21\n",
      "306\tCn1c(CN2CCN(c3ccc([Al](C)O[Al])cc3)CC2)nc2ccccc21\n",
      "307\tCn1c(CN2CCN(c3ccc([B][N+](=O)[O-])cc3)CC2)nc2ccccc21\n",
      "308\tCn1c(CN2CCN(c3ccc([ClH+])cc3)CC2)nc2ccccc21\n",
      "309\tCn1c(CN2CCN(c3ccc([N+](=O)[O-])cc3)CC2)nc2ccccc21\n",
      "310\tCn1c(CN2CCN(c3ccc([O+](C)[Si])cc3)CC2)nc2ccccc21\n",
      "311\tCn1c(CN2CCN(c3ccc([O-])cc3)CC2)nc2ccccc21\n",
      "312\tCn1c(CN2CCN(c3ccc([Si](C)=[Si])cc3)CC2)nc2ccccc21\n",
      "313\tCn1c(CN2CCN(c3ccccc3)CC2)nc2ccccc21\n",
      "314\tCn1c(CNC(=O)N2CCN(c3ccc(Cl)cc3)CC2)nc2ccccc21\n",
      "315\tCn1c(CNCCN2CCN(c3ccc(Cl)cc3)CC2)nc2ccccc21\n",
      "316\tCn1c(CNN2CCN(c3ccc(Cl)cc3)CC2)nc2ccccc21\n",
      "317\tCn1c(COC(=O)N2CCN(c3ccc(Cl)cc3)CC2)nc2ccccc21\n",
      "318\tCn1c(COCCN2CCN(c3ccc(Cl)cc3)CC2)nc2ccccc21\n",
      "319\tCn1c(COCN2CCN(c3ccc(Cl)cc3)CC2)nc2ccccc21\n",
      "320\tCn1c(CON2CCN(c3ccc(Cl)cc3)CC2)nc2ccccc21\n",
      "321\tCn1c(CS(=O)(=O)N2CCN(c3ccc(Cl)cc3)CC2)nc2ccccc21\n",
      "322\tCn1c(CSCCN2CCN(c3ccc(Cl)cc3)CC2)nc2ccccc21\n",
      "323\tCn1c(CSCN2CCN(c3ccc(Cl)cc3)CC2)nc2ccccc21\n",
      "324\tCn1c(CSN2CCN(c3ccc(Cl)cc3)CC2)nc2ccccc21\n",
      "325\tCn1c(C[C@H](N)N2CCN(c3ccc(Cl)cc3)CC2)nc2ccccc21\n",
      "326\tCn1c(NC(=O)CN2CCN(c3ccc(Cl)cc3)CC2)nc2ccccc21\n",
      "327\tCn1c(NCCCN2CCN(c3ccc(Cl)cc3)CC2)nc2ccccc21\n",
      "328\tCn1c(NCCN2CCN(c3ccc(Cl)cc3)CC2)nc2ccccc21\n",
      "329\tCn1c(NCN2CCN(c3ccc(Cl)cc3)CC2)nc2ccccc21\n",
      "330\tCn1c(NN2CCN(c3ccc(Cl)cc3)CC2)nc2ccccc21\n",
      "331\tCn1c(OC(C)(C)N2CCN(c3ccc(Cl)cc3)CC2)nc2ccccc21\n",
      "332\tCn1c(OC(F)N2CCN(c3ccc(Cl)cc3)CC2)nc2ccccc21\n",
      "333\tCn1c(OCCCN2CCN(c3ccc(Cl)cc3)CC2)nc2ccccc21\n",
      "334\tCn1c(OCCN2CCN(c3ccc(Cl)cc3)CC2)nc2ccccc21\n",
      "335\tCn1c(OCN2CCN(c3ccc(Cl)cc3)CC2)nc2ccccc21\n",
      "336\tCn1c(ON2CCN(c3ccc(Cl)cc3)CC2)nc2ccccc21\n",
      "337\tCn1c(O[C@@H](F)N2CCN(c3ccc(Cl)cc3)CC2)nc2ccccc21\n",
      "338\tCn1c(O[C@H](F)N2CCN(c3ccc(Cl)cc3)CC2)nc2ccccc21\n",
      "339\tCn1c(S(=O)(=O)CN2CCN(c3ccc(Cl)cc3)CC2)nc2ccccc21\n",
      "340\tCn1c(SCCCN2CCN(c3ccc(Cl)cc3)CC2)nc2ccccc21\n",
      "341\tCn1c(SCCN2CCN(c3ccc(Cl)cc3)CC2)nc2ccccc21\n",
      "342\tCn1c(SCN2CCN(c3ccc(Cl)cc3)CC2)nc2ccccc21\n",
      "343\tCn1c(SN2CCN(c3ccc(Cl)cc3)CC2)nc2ccccc21\n",
      "344\tCn1c([C@@H](F)ON2CCN(c3ccc(Cl)cc3)CC2)nc2ccccc21\n",
      "345\tCn1c([C@@H](N)CN2CCN(c3ccc(Cl)cc3)CC2)nc2ccccc21\n",
      "346\tCn1c([C@@H]2C[C@H]2N2CCN(c3ccc(Cl)cc3)CC2)nc2ccccc21\n",
      "347\tCn1c([C@H](F)ON2CCN(c3ccc(Cl)cc3)CC2)nc2ccccc21\n",
      "348\tCn1c([CH-]N2CCN(c3ccc(Cl)cc3)CC2)nc2ccccc21\n",
      "349\tCn1c([CH]N2CCN(c3ccc(Cl)cc3)CC2)nc2ccccc21\n",
      "350\tFC(F)(Br)n1c(CN2CCN(c3ccc(Cl)cc3)CC2)nc2ccccc21\n",
      "351\tFC(F)(F)n1c(CN2CCN(c3ccc(Cl)cc3)CC2)nc2ccccc21\n",
      "352\tFC(F)On1c(CN2CCN(c3ccc(Cl)cc3)CC2)nc2ccccc21\n",
      "353\tFC(F)n1c(CN2CCN(c3ccc(Cl)cc3)CC2)nc2ccccc21\n",
      "354\tFC(SCl)n1c(CN2CCN(c3ccc(Cl)cc3)CC2)nc2ccccc21\n",
      "355\tFC1(n2c(CN3CCN(c4ccc(Cl)cc4)CC3)nc3ccccc32)CC1\n",
      "356\tFCCn1c(CN2CCN(c3ccc(Cl)cc3)CC2)nc2ccccc21\n",
      "357\tFCOn1c(CN2CCN(c3ccc(Cl)cc3)CC2)nc2ccccc21\n",
      "358\tFCn1c(CN2CCN(c3ccc(Cl)cc3)CC2)nc2ccccc21\n",
      "359\tF[Ge](Br)(I)n1c(CN2CCN(c3ccc(Cl)cc3)CC2)nc2ccccc21\n",
      "360\tF[Ge](Cl)(Br)n1c(CN2CCN(c3ccc(Cl)cc3)CC2)nc2ccccc21\n",
      "361\tF[Ge](Cl)(I)n1c(CN2CCN(c3ccc(Cl)cc3)CC2)nc2ccccc21\n",
      "362\tF[Ge](F)(Br)n1c(CN2CCN(c3ccc(Cl)cc3)CC2)nc2ccccc21\n",
      "363\tF[Ge](F)(Cl)n1c(CN2CCN(c3ccc(Cl)cc3)CC2)nc2ccccc21\n",
      "364\tF[Ge](F)(I)n1c(CN2CCN(c3ccc(Cl)cc3)CC2)nc2ccccc21\n",
      "365\tFn1c(CN2CCN(c3ccc(Cl)cc3)CC2)nc2ccccc21\n",
      "366\tN#CC(N)n1c(CN2CCN(c3ccc(Cl)cc3)CC2)nc2ccccc21\n",
      "367\tN#CCCn1c(CN2CCN(c3ccc(Cl)cc3)CC2)nc2ccccc21\n",
      "368\tN#CCn1c(CN2CCN(c3ccc(Cl)cc3)CC2)nc2ccccc21\n",
      "369\tN#Cn1c(CN2CCN(c3ccc(Cl)cc3)CC2)nc2ccccc21\n",
      "370\tN=NCn1c(CN2CCN(c3ccc(Cl)cc3)CC2)nc2ccccc21\n",
      "371\tNC(=NO)n1c(CN2CCN(c3ccc(Cl)cc3)CC2)nc2ccccc21\n",
      "372\tNC(=O)Cn1c(CN2CCN(c3ccc(Cl)cc3)CC2)nc2ccccc21\n",
      "373\tNC(=O)n1c(CN2CCN(c3ccc(Cl)cc3)CC2)nc2ccccc21\n",
      "374\tNCC#Cn1c(CN2CCN(c3ccc(Cl)cc3)CC2)nc2ccccc21\n",
      "375\tNCCCn1c(CN2CCN(c3ccc(Cl)cc3)CC2)nc2ccccc21\n",
      "376\tNCCn1c(CN2CCN(c3ccc(Cl)cc3)CC2)nc2ccccc21\n",
      "377\tNCn1c(CN2CCN(c3ccc(Cl)cc3)CC2)nc2ccccc21\n",
      "378\tNNC(=O)n1c(CN2CCN(c3ccc(Cl)cc3)CC2)nc2ccccc21\n",
      "379\tNNC=Nn1c(CN2CCN(c3ccc(Cl)cc3)CC2)nc2ccccc21\n",
      "380\tNS(=O)(=O)n1c(CN2CCN(c3ccc(Cl)cc3)CC2)nc2ccccc21\n",
      "381\tNn1c(CN2CCN(c3ccc(Cl)cc3)CC2)nc2ccccc21\n",
      "382\tO/N=C\\n1c(CN2CCN(c3ccc(Cl)cc3)CC2)nc2ccccc21\n",
      "383\tO=C(NO)n1c(CN2CCN(c3ccc(Cl)cc3)CC2)nc2ccccc21\n",
      "384\tO=C(O)Cn1c(CN2CCN(c3ccc(Cl)cc3)CC2)nc2ccccc21\n",
      "385\tO=C(O)On1c(CN2CCN(c3ccc(Cl)cc3)CC2)nc2ccccc21\n",
      "386\tO=C(O)n1c(CN2CCN(c3ccc(Cl)cc3)CC2)nc2ccccc21\n",
      "387\tO=COOn1c(CN2CCN(c3ccc(Cl)cc3)CC2)nc2ccccc21\n",
      "388\tO=Cn1c(CN2CCN(c3ccc(Cl)cc3)CC2)nc2ccccc21\n",
      "389\tO=P(O)(O)n1c(CN2CCN(c3ccc(Cl)cc3)CC2)nc2ccccc21\n",
      "390\tO=S(=O)(O)n1c(CN2CCN(c3ccc(Cl)cc3)CC2)nc2ccccc21\n",
      "391\tO=S([O-])n1c(CN2CCN(c3ccc(Cl)cc3)CC2)nc2ccccc21\n",
      "392\tO=S=Cn1c(CN2CCN(c3ccc(Cl)cc3)CC2)nc2ccccc21\n",
      "393\tO=[11C](O)Cn1c(CN2CCN(c3ccc(Cl)cc3)CC2)nc2ccccc21\n",
      "394\tO=[N+]([O-])n1c(CN2CCN(c3ccc(Cl)cc3)CC2)nc2ccccc21\n",
      "395\tOCC#Cn1c(CN2CCN(c3ccc(Cl)cc3)CC2)nc2ccccc21\n",
      "396\tOCCCn1c(CN2CCN(c3ccc(Cl)cc3)CC2)nc2ccccc21\n",
      "397\tOCCn1c(CN2CCN(c3ccc(Cl)cc3)CC2)nc2ccccc21\n",
      "398\tOCNCn1c(CN2CCN(c3ccc(Cl)cc3)CC2)nc2ccccc21\n",
      "399\tOCn1c(CN2CCN(c3ccc(Cl)cc3)CC2)nc2ccccc21\n",
      "400\tOn1c(CN2CCN(c3ccc(Cl)cc3)CC2)nc2ccccc21\n",
      "401\tPPP(P)n1c(CN2CCN(c3ccc(Cl)cc3)CC2)nc2ccccc21\n",
      "402\tS=C=Nn1c(CN2CCN(c3ccc(Cl)cc3)CC2)nc2ccccc21\n",
      "403\tS=Cn1c(CN2CCN(c3ccc(Cl)cc3)CC2)nc2ccccc21\n",
      "404\tSCCn1c(CN2CCN(c3ccc(Cl)cc3)CC2)nc2ccccc21\n",
      "405\tSCn1c(CN2CCN(c3ccc(Cl)cc3)CC2)nc2ccccc21\n",
      "406\tSn1c(CN2CCN(c3ccc(Cl)cc3)CC2)nc2ccccc21\n",
      "407\t[18F]Cn1c(CN2CCN(c3ccc(Cl)cc3)CC2)nc2ccccc21\n",
      "408\t[2H]C(S)n1c(CN2CCN(c3ccc(Cl)cc3)CC2)nc2ccccc21\n",
      "409\t[2H]C([2H])([2H])n1c(CN2CCN(c3ccc(Cl)cc3)CC2)nc2ccccc21\n",
      "410\t[2H]C([2H])(c1nc2ccccc2n1C)N1CCN(c2ccc(Cl)cc2)CC1\n",
      "411\t[2H]Cn1c(CN2CCN(c3ccc(Cl)cc3)CC2)nc2ccccc21\n",
      "412\t[2H]OOn1c(CN2CCN(c3ccc(Cl)cc3)CC2)nc2ccccc21\n",
      "413\t[2H][13CH2]c1ccc(N2CCN(Cc3nc4ccccc4n3C)CC2)cc1\n",
      "414\t[B]c1ccc(N2CCN(Cc3nc4ccccc4n3C)CC2)cc1\n",
      "415\t[C+]#Cn1c(CN2CCN(c3ccc(Cl)cc3)CC2)nc2ccccc21\n",
      "416\t[C-]#[N+]c1ccc(N2CCN(Cc3nc4ccccc4n3C)CC2)cc1\n",
      "417\t[SiH3]OCCn1c(CN2CCN(c3ccc(Cl)cc3)CC2)nc2ccccc21\n",
      "418\t[Si]/C=C/Cn1c(CN2CCN(c3ccc(Cl)cc3)CC2)nc2ccccc21\n",
      "-python STDERR:\n",
      "WARNING: APSW not installed. Falling back to Python's sqlite3 module.\n"
     ]
    }
   ],
   "source": [
    "g.find_neighbors(n)"
   ]
  },
  {
   "cell_type": "code",
   "execution_count": 6,
   "metadata": {},
   "outputs": [
    {
     "data": {
      "text/plain": [
       "'Cn1c(CN2CCN(CC2)c3ccc(Cl)cc3)nc4ccccc14'"
      ]
     },
     "execution_count": 6,
     "metadata": {},
     "output_type": "execute_result"
    }
   ],
   "source": [
    "str(g.mols[0])"
   ]
  },
  {
   "cell_type": "code",
   "execution_count": 7,
   "metadata": {},
   "outputs": [],
   "source": [
    "def foo(a, **kwargs):\n",
    "    return a + kwargs[\"b\"]"
   ]
  },
  {
   "cell_type": "code",
   "execution_count": 11,
   "metadata": {},
   "outputs": [],
   "source": [
    "d = {\"b\": 5}"
   ]
  },
  {
   "cell_type": "code",
   "execution_count": 14,
   "metadata": {},
   "outputs": [],
   "source": [
    "def bar(**kwargs):\n",
    "    return foo(7, **kwargs)"
   ]
  },
  {
   "cell_type": "code",
   "execution_count": 15,
   "metadata": {},
   "outputs": [
    {
     "data": {
      "text/plain": [
       "12"
      ]
     },
     "execution_count": 15,
     "metadata": {},
     "output_type": "execute_result"
    }
   ],
   "source": [
    "bar(**d)"
   ]
  }
 ],
 "metadata": {
  "kernelspec": {
   "display_name": "Python 3",
   "language": "python",
   "name": "python3"
  },
  "language_info": {
   "codemirror_mode": {
    "name": "ipython",
    "version": 3
   },
   "file_extension": ".py",
   "mimetype": "text/x-python",
   "name": "python",
   "nbconvert_exporter": "python",
   "pygments_lexer": "ipython3",
   "version": "3.8.10"
  }
 },
 "nbformat": 4,
 "nbformat_minor": 4
}
