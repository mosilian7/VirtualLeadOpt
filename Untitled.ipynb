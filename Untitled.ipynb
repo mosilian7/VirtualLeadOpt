{
 "cells": [
  {
   "cell_type": "code",
   "execution_count": 42,
   "metadata": {},
   "outputs": [],
   "source": [
    "from schrodinger.pipeline.stages.qikprop import QikPropStage as qp\n",
    "import schrodinger.pipeline.pipeio as pipeio\n",
    "import common.util as util"
   ]
  },
  {
   "cell_type": "code",
   "execution_count": 43,
   "metadata": {},
   "outputs": [
    {
     "name": "stdout",
     "output_type": "stream",
     "text": [
      "\n",
      "Running stage: 3877375943170185707\n",
      "SCHRODINGER: D:\\Program Files (x86)\\Schrodinger\n",
      "PYTHONPATH: C:\\Program Files\\PerkinElmerInformatics\\ChemOffice2020\\ChemScript\\Lib\n",
      "Time: Sun Oct 30 11:35:05 2022\n",
      "Stage started successfully\n",
      "\n",
      "Python version: 77128\n",
      "Will NOT recombine input ligands\n",
      "There will be 1 subjobs.\n",
      "Running QikProp jobs...\n",
      "\n",
      "Running subjobs on hosts:\n",
      "  localhost (Max: 1)\n",
      "Number of jobs:       1\n",
      "Max retries per job:  2\n",
      "Max allowed failures: unlimited\n",
      "Verbosity:            normal\n",
      "\n",
      "Starting JobDJ...\n",
      "\n",
      "Keep one job on driver host: False\n",
      "JobDJ columns:\n",
      "  C: Number of completed subjobs\n",
      "  A: Number of active subjobs (e.g., submitted, running)\n",
      "  W: Number of waiting/pending subjobs\n",
      "\n",
      "C A W | Activity  JobId  JobName  JobHost\n",
      "- - - | --------- -----------------------\n",
      "0 1 0 | launched  LAPTOP-0287K7QE-0-635df104 3877375943170185707-001 localhost [LAPTOP-0287K7QE]\n",
      "1 0 0 | finished  LAPTOP-0287K7QE-0-635df104 3877375943170185707-001 localhost [LAPTOP-0287K7QE]\n",
      "\n",
      "All jobs have completed.\n",
      "\n",
      "1 of 1 job(s) succeeded; 0 job(s) failed.\n",
      "\n",
      "Checking subjob outputs...\n",
      "\n",
      "Sum of structure counts of all subjobs:\n",
      "\n",
      " ** 2 molecules were successfully processed, 0 failed, 0 skipped **\n",
      "\n",
      "STAGE COMPLETED. Elapsed time: 38 seconds\n",
      "\n",
      "    Output #1 (OUTPUT) [structures(2)]:\n",
      "      OUTPUT-001.sdfgz\n",
      "Done.\n"
     ]
    }
   ],
   "source": [
    "df = util.qikprop(['Cn1c(CN2CCN(CC2)c3ccc(Cl)cc3)nc4ccccc14', 'COc1cc(OC)c(cc1NC(=O)CSCC(=O)O)S(=O)(=O)N2C(C)CCc3ccccc23'])"
   ]
  },
  {
   "cell_type": "code",
   "execution_count": 5,
   "metadata": {},
   "outputs": [
    {
     "data": {
      "text/html": [
       "<div>\n",
       "<style scoped>\n",
       "    .dataframe tbody tr th:only-of-type {\n",
       "        vertical-align: middle;\n",
       "    }\n",
       "\n",
       "    .dataframe tbody tr th {\n",
       "        vertical-align: top;\n",
       "    }\n",
       "\n",
       "    .dataframe thead th {\n",
       "        text-align: right;\n",
       "    }\n",
       "</style>\n",
       "<table border=\"1\" class=\"dataframe\">\n",
       "  <thead>\n",
       "    <tr style=\"text-align: right;\">\n",
       "      <th></th>\n",
       "      <th>molecule</th>\n",
       "      <th>#stars</th>\n",
       "      <th>#amine</th>\n",
       "      <th>#amidine</th>\n",
       "      <th>#acid</th>\n",
       "      <th>#amide</th>\n",
       "      <th>#rotor</th>\n",
       "      <th>#rtvFG</th>\n",
       "      <th>CNS</th>\n",
       "      <th>mol_MW</th>\n",
       "      <th>...</th>\n",
       "      <th>PSA</th>\n",
       "      <th>#NandO</th>\n",
       "      <th>RuleOfFive</th>\n",
       "      <th>#ringatoms</th>\n",
       "      <th>#in34</th>\n",
       "      <th>#in56</th>\n",
       "      <th>#noncon</th>\n",
       "      <th>#nonHatm</th>\n",
       "      <th>RuleOfThree</th>\n",
       "      <th>Jm</th>\n",
       "    </tr>\n",
       "  </thead>\n",
       "  <tbody>\n",
       "    <tr>\n",
       "      <th>0</th>\n",
       "      <td>Molecule     1</td>\n",
       "      <td>0</td>\n",
       "      <td>1</td>\n",
       "      <td>0</td>\n",
       "      <td>0</td>\n",
       "      <td>0</td>\n",
       "      <td>2</td>\n",
       "      <td>0</td>\n",
       "      <td>2</td>\n",
       "      <td>340.855</td>\n",
       "      <td>...</td>\n",
       "      <td>25.749</td>\n",
       "      <td>4</td>\n",
       "      <td>0</td>\n",
       "      <td>21</td>\n",
       "      <td>0</td>\n",
       "      <td>21</td>\n",
       "      <td>4</td>\n",
       "      <td>24</td>\n",
       "      <td>0</td>\n",
       "      <td>0.006</td>\n",
       "    </tr>\n",
       "    <tr>\n",
       "      <th>1</th>\n",
       "      <td>Molecule     2</td>\n",
       "      <td>1</td>\n",
       "      <td>0</td>\n",
       "      <td>0</td>\n",
       "      <td>1</td>\n",
       "      <td>0</td>\n",
       "      <td>9</td>\n",
       "      <td>0</td>\n",
       "      <td>-2</td>\n",
       "      <td>494.577</td>\n",
       "      <td>...</td>\n",
       "      <td>129.573</td>\n",
       "      <td>9</td>\n",
       "      <td>0</td>\n",
       "      <td>16</td>\n",
       "      <td>0</td>\n",
       "      <td>16</td>\n",
       "      <td>3</td>\n",
       "      <td>33</td>\n",
       "      <td>0</td>\n",
       "      <td>0.003</td>\n",
       "    </tr>\n",
       "  </tbody>\n",
       "</table>\n",
       "<p>2 rows × 52 columns</p>\n",
       "</div>"
      ],
      "text/plain": [
       "         molecule  #stars  #amine  #amidine  #acid  #amide  #rotor  #rtvFG  \\\n",
       "0  Molecule     1       0       1         0      0       0       2       0   \n",
       "1  Molecule     2       1       0         0      1       0       9       0   \n",
       "\n",
       "   CNS   mol_MW  ...      PSA  #NandO  RuleOfFive  #ringatoms  #in34  #in56  \\\n",
       "0    2  340.855  ...   25.749       4           0          21      0     21   \n",
       "1   -2  494.577  ...  129.573       9           0          16      0     16   \n",
       "\n",
       "   #noncon  #nonHatm  RuleOfThree     Jm  \n",
       "0        4        24            0  0.006  \n",
       "1        3        33            0  0.003  \n",
       "\n",
       "[2 rows x 52 columns]"
      ]
     },
     "execution_count": 5,
     "metadata": {},
     "output_type": "execute_result"
    }
   ],
   "source": [
    "df"
   ]
  },
  {
   "cell_type": "code",
   "execution_count": 4,
   "metadata": {},
   "outputs": [],
   "source": [
    "from openbabel import openbabel\n",
    "from openbabel import pybel"
   ]
  },
  {
   "cell_type": "code",
   "execution_count": 5,
   "metadata": {},
   "outputs": [
    {
     "name": "stdout",
     "output_type": "stream",
     "text": [
      "['CONFIG', 'CONTCAR', 'CONTFF', 'HISTORY', 'MDFF', 'POSCAR', 'POSFF', 'VASP', 'abinit', 'acesout', 'acr', 'adfband', 'adfdftb', 'adfout', 'alc', 'aoforce', 'arc', 'axsf', 'bgf', 'box', 'bs', 'c09out', 'c3d1', 'c3d2', 'caccrt', 'car', 'castep', 'ccc', 'cdjson', 'cdx', 'cif', 'ck', 'cof', 'crk2d', 'crk3d', 'ct', 'cub', 'cube', 'dallog', 'dalmol', 'dat', 'dmol', 'dx', 'exyz', 'fa', 'fasta', 'fch', 'fchk', 'fck', 'feat', 'fhiaims', 'fract', 'fs', 'fsa', 'g03', 'g09', 'g16', 'g92', 'g94', 'g98', 'gal', 'gam', 'gamess', 'gamin', 'gamout', 'got', 'gpr', 'gro', 'gukin', 'gukout', 'gzmat', 'hin', 'inp', 'ins', 'jin', 'jout', 'log', 'lpmd', 'mcdl', 'mcif', 'mmcif', 'mmd', 'mmod', 'mold', 'molden', 'molf', 'moo', 'mop', 'mopcrt', 'mopin', 'mopout', 'mpc', 'mpo', 'mpqc', 'msi', 'nwo', 'orca', 'out', 'outmol', 'output', 'pcjson', 'pcm', 'pdbqt', 'png', 'pos', 'pqr', 'pqs', 'prep', 'pwscf', 'qcout', 'res', 'rsmi', 'rxn', 'siesta', 'smy', 't41', 'tdd', 'text', 'therm', 'tmol', 'txt', 'txyz', 'unixyz', 'vmol', 'wln', 'xsf', 'xyz', 'yob']\n"
     ]
    }
   ],
   "source": [
    "print(sorted(pybel.informats))"
   ]
  },
  {
   "cell_type": "code",
   "execution_count": 6,
   "metadata": {},
   "outputs": [
    {
     "ename": "ValueError",
     "evalue": "sdf is not a recognised Open Babel format",
     "output_type": "error",
     "traceback": [
      "\u001b[1;31m---------------------------------------------------------------------------\u001b[0m",
      "\u001b[1;31mValueError\u001b[0m                                Traceback (most recent call last)",
      "\u001b[1;32m<ipython-input-6-6aac31e46d09>\u001b[0m in \u001b[0;36m<module>\u001b[1;34m\u001b[0m\n\u001b[0;32m      1\u001b[0m \u001b[0mcount\u001b[0m \u001b[1;33m=\u001b[0m \u001b[1;36m0\u001b[0m\u001b[1;33m\u001b[0m\u001b[1;33m\u001b[0m\u001b[0m\n\u001b[0;32m      2\u001b[0m \u001b[0mid\u001b[0m \u001b[1;33m=\u001b[0m \u001b[1;36m3877375943170185707\u001b[0m\u001b[1;33m\u001b[0m\u001b[1;33m\u001b[0m\u001b[0m\n\u001b[1;32m----> 3\u001b[1;33m \u001b[1;32mfor\u001b[0m \u001b[0mmol\u001b[0m \u001b[1;32min\u001b[0m \u001b[0mpybel\u001b[0m\u001b[1;33m.\u001b[0m\u001b[0mreadfile\u001b[0m\u001b[1;33m(\u001b[0m\u001b[1;34m\"sdf\"\u001b[0m\u001b[1;33m,\u001b[0m \u001b[1;34m\"scratch/3877375943170185707.sdf\"\u001b[0m\u001b[1;33m)\u001b[0m\u001b[1;33m:\u001b[0m\u001b[1;33m\u001b[0m\u001b[1;33m\u001b[0m\u001b[0m\n\u001b[0m\u001b[0;32m      4\u001b[0m     \u001b[0mmol\u001b[0m\u001b[1;33m.\u001b[0m\u001b[0mwrite\u001b[0m\u001b[1;33m(\u001b[0m\u001b[1;34m\"pdbqt\"\u001b[0m\u001b[1;33m,\u001b[0m \u001b[1;34mf\"scratch/{id}_{count}.pdbqt\"\u001b[0m\u001b[1;33m)\u001b[0m\u001b[1;33m\u001b[0m\u001b[1;33m\u001b[0m\u001b[0m\n\u001b[0;32m      5\u001b[0m     \u001b[0mcount\u001b[0m \u001b[1;33m+=\u001b[0m \u001b[1;36m1\u001b[0m\u001b[1;33m\u001b[0m\u001b[1;33m\u001b[0m\u001b[0m\n",
      "\u001b[1;32m~\\s_env\\lib\\site-packages\\openbabel\\pybel.py\u001b[0m in \u001b[0;36mreadfile\u001b[1;34m(format, filename, opt)\u001b[0m\n\u001b[0;32m    157\u001b[0m             \u001b[0mobconversion\u001b[0m\u001b[1;33m.\u001b[0m\u001b[0mAddOption\u001b[0m\u001b[1;33m(\u001b[0m\u001b[0mk\u001b[0m\u001b[1;33m,\u001b[0m \u001b[0mobconversion\u001b[0m\u001b[1;33m.\u001b[0m\u001b[0mINOPTIONS\u001b[0m\u001b[1;33m,\u001b[0m \u001b[0mstr\u001b[0m\u001b[1;33m(\u001b[0m\u001b[0mv\u001b[0m\u001b[1;33m)\u001b[0m\u001b[1;33m)\u001b[0m\u001b[1;33m\u001b[0m\u001b[1;33m\u001b[0m\u001b[0m\n\u001b[0;32m    158\u001b[0m     \u001b[1;32mif\u001b[0m \u001b[1;32mnot\u001b[0m \u001b[0mformatok\u001b[0m\u001b[1;33m:\u001b[0m\u001b[1;33m\u001b[0m\u001b[1;33m\u001b[0m\u001b[0m\n\u001b[1;32m--> 159\u001b[1;33m         \u001b[1;32mraise\u001b[0m \u001b[0mValueError\u001b[0m\u001b[1;33m(\u001b[0m\u001b[1;34m\"%s is not a recognised Open Babel format\"\u001b[0m \u001b[1;33m%\u001b[0m \u001b[0mformat\u001b[0m\u001b[1;33m)\u001b[0m\u001b[1;33m\u001b[0m\u001b[1;33m\u001b[0m\u001b[0m\n\u001b[0m\u001b[0;32m    160\u001b[0m     \u001b[1;32mif\u001b[0m \u001b[1;32mnot\u001b[0m \u001b[0mos\u001b[0m\u001b[1;33m.\u001b[0m\u001b[0mpath\u001b[0m\u001b[1;33m.\u001b[0m\u001b[0misfile\u001b[0m\u001b[1;33m(\u001b[0m\u001b[0mfilename\u001b[0m\u001b[1;33m)\u001b[0m\u001b[1;33m:\u001b[0m\u001b[1;33m\u001b[0m\u001b[1;33m\u001b[0m\u001b[0m\n\u001b[0;32m    161\u001b[0m         \u001b[1;32mraise\u001b[0m \u001b[0mIOError\u001b[0m\u001b[1;33m(\u001b[0m\u001b[1;34m\"No such file: '%s'\"\u001b[0m \u001b[1;33m%\u001b[0m \u001b[0mfilename\u001b[0m\u001b[1;33m)\u001b[0m\u001b[1;33m\u001b[0m\u001b[1;33m\u001b[0m\u001b[0m\n",
      "\u001b[1;31mValueError\u001b[0m: sdf is not a recognised Open Babel format"
     ]
    }
   ],
   "source": [
    "count = 0\n",
    "id = 3877375943170185707\n",
    "for mol in pybel.readfile(\"sdf\", \"scratch/3877375943170185707.sdf\"):\n",
    "    mol.write(\"pdbqt\", f\"scratch/{id}_{count}.pdbqt\")\n",
    "    count += 1"
   ]
  },
  {
   "cell_type": "code",
   "execution_count": 11,
   "metadata": {},
   "outputs": [],
   "source": [
    "import os\n",
    "f = os.popen('obabel --help')"
   ]
  },
  {
   "cell_type": "code",
   "execution_count": 15,
   "metadata": {},
   "outputs": [],
   "source": [
    "f = os.popen('obabel -isdf scratch/3877375943170185707.sdf -opdbqt -O obtest.pdbqt -m')"
   ]
  },
  {
   "cell_type": "code",
   "execution_count": 23,
   "metadata": {},
   "outputs": [],
   "source": [
    "f = os.popen('obabel -ipdb test/pdbdemo.pdb -opdbqt -O test/protein_test.pdbqt -p')"
   ]
  },
  {
   "cell_type": "code",
   "execution_count": 24,
   "metadata": {},
   "outputs": [
    {
     "data": {
      "text/plain": [
       "[]"
      ]
     },
     "execution_count": 24,
     "metadata": {},
     "output_type": "execute_result"
    }
   ],
   "source": [
    "f.readlines()"
   ]
  },
  {
   "cell_type": "code",
   "execution_count": 36,
   "metadata": {},
   "outputs": [
    {
     "name": "stdout",
     "output_type": "stream",
     "text": [
      "REMARK  Name = Structure2\n",
      "REMARK  0 active torsions:\n",
      "REMARK  status: ('A' for Active; 'I' for Inactive)\n",
      "REMARK                            x       y       z     vdW  Elec       q    Type\n",
      "REMARK                         _______ _______ _______ _____ _____    ______ ____\n",
      "ROOT\n",
      "ATOM      1  C   UNL     1       0.000   0.000   0.000  0.00  0.00    +0.000 C \n",
      "ATOM      2  C   UNL     1       0.000   0.000   0.000  0.00  0.00    +0.000 C \n",
      "ATOM      3  C   UNL     1       0.000   0.000   0.000  0.00  0.00    +0.000 C \n",
      "ATOM      4  C   UNL     1       0.000   0.000   0.000  0.00  0.00    +0.000 C \n",
      "ATOM      5  S   UNL     1       0.000   0.000   0.000  0.00  0.00    +0.000 S \n",
      "ENDROOT\n",
      "TORSDOF 0\n",
      "\n"
     ]
    }
   ],
   "source": [
    "print(outMDL)"
   ]
  }
 ],
 "metadata": {
  "kernelspec": {
   "display_name": "Python 3",
   "language": "python",
   "name": "python3"
  },
  "language_info": {
   "codemirror_mode": {
    "name": "ipython",
    "version": 3
   },
   "file_extension": ".py",
   "mimetype": "text/x-python",
   "name": "python",
   "nbconvert_exporter": "python",
   "pygments_lexer": "ipython3",
   "version": "3.8.10"
  }
 },
 "nbformat": 4,
 "nbformat_minor": 4
}
