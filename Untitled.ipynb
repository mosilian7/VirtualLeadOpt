{
 "cells": [
  {
   "cell_type": "code",
   "execution_count": 1,
   "metadata": {},
   "outputs": [],
   "source": [
    "from schrodinger.pipeline.stages.qikprop import QikPropStage as qp\n",
    "import schrodinger.pipeline.pipeio as pipeio\n",
    "import common.util as util"
   ]
  },
  {
   "cell_type": "code",
   "execution_count": 4,
   "metadata": {},
   "outputs": [
    {
     "name": "stdout",
     "output_type": "stream",
     "text": [
      "\n",
      "Running stage: 7459037827073122412\n",
      "SCHRODINGER: D:\\Program Files (x86)\\Schrodinger\n",
      "PYTHONPATH: C:\\Program Files\\PerkinElmerInformatics\\ChemOffice2020\\ChemScript\\Lib\n",
      "Time: Fri Oct 28 20:59:53 2022\n",
      "Stage started successfully\n",
      "\n",
      "Python version: 77128\n",
      "Will NOT recombine input ligands\n",
      "There will be 1 subjobs.\n",
      "Running QikProp jobs...\n",
      "\n",
      "Running subjobs on hosts:\n",
      "  localhost (Max: 1)\n",
      "Number of jobs:       1\n",
      "Max retries per job:  2\n",
      "Max allowed failures: unlimited\n",
      "Verbosity:            normal\n",
      "\n",
      "Starting JobDJ...\n",
      "\n",
      "Keep one job on driver host: False\n",
      "JobDJ columns:\n",
      "  C: Number of completed subjobs\n",
      "  A: Number of active subjobs (e.g., submitted, running)\n",
      "  W: Number of waiting/pending subjobs\n",
      "\n",
      "C A W | Activity  JobId  JobName  JobHost\n",
      "- - - | --------- -----------------------\n",
      "0 1 0 | launched  LAPTOP-0287K7QE-0-635bd24c 7459037827073122412-001 localhost [LAPTOP-0287K7QE]\n",
      "1 0 0 | finished  LAPTOP-0287K7QE-0-635bd24c 7459037827073122412-001 localhost [LAPTOP-0287K7QE]\n",
      "\n",
      "All jobs have completed.\n",
      "\n",
      "1 of 1 job(s) succeeded; 0 job(s) failed.\n",
      "\n",
      "Checking subjob outputs...\n",
      "\n",
      "Sum of structure counts of all subjobs:\n",
      "\n",
      " ** 2 molecules were successfully processed, 0 failed, 0 skipped **\n",
      "\n",
      "STAGE COMPLETED. Elapsed time: 15 seconds\n",
      "\n",
      "    Output #1 (OUTPUT) [structures(2)]:\n",
      "      OUTPUT-001.sdfgz\n",
      "Done.\n"
     ]
    }
   ],
   "source": [
    "df = util.qikprop(['Cn1c(CN2CCN(CC2)c3ccc(Cl)cc3)nc4ccccc14', 'COc1cc(OC)c(cc1NC(=O)CSCC(=O)O)S(=O)(=O)N2C(C)CCc3ccccc23'])"
   ]
  },
  {
   "cell_type": "code",
   "execution_count": 5,
   "metadata": {},
   "outputs": [
    {
     "data": {
      "text/html": [
       "<div>\n",
       "<style scoped>\n",
       "    .dataframe tbody tr th:only-of-type {\n",
       "        vertical-align: middle;\n",
       "    }\n",
       "\n",
       "    .dataframe tbody tr th {\n",
       "        vertical-align: top;\n",
       "    }\n",
       "\n",
       "    .dataframe thead th {\n",
       "        text-align: right;\n",
       "    }\n",
       "</style>\n",
       "<table border=\"1\" class=\"dataframe\">\n",
       "  <thead>\n",
       "    <tr style=\"text-align: right;\">\n",
       "      <th></th>\n",
       "      <th>molecule</th>\n",
       "      <th>#stars</th>\n",
       "      <th>#amine</th>\n",
       "      <th>#amidine</th>\n",
       "      <th>#acid</th>\n",
       "      <th>#amide</th>\n",
       "      <th>#rotor</th>\n",
       "      <th>#rtvFG</th>\n",
       "      <th>CNS</th>\n",
       "      <th>mol_MW</th>\n",
       "      <th>...</th>\n",
       "      <th>PSA</th>\n",
       "      <th>#NandO</th>\n",
       "      <th>RuleOfFive</th>\n",
       "      <th>#ringatoms</th>\n",
       "      <th>#in34</th>\n",
       "      <th>#in56</th>\n",
       "      <th>#noncon</th>\n",
       "      <th>#nonHatm</th>\n",
       "      <th>RuleOfThree</th>\n",
       "      <th>Jm</th>\n",
       "    </tr>\n",
       "  </thead>\n",
       "  <tbody>\n",
       "    <tr>\n",
       "      <th>0</th>\n",
       "      <td>Molecule     1</td>\n",
       "      <td>0</td>\n",
       "      <td>1</td>\n",
       "      <td>0</td>\n",
       "      <td>0</td>\n",
       "      <td>0</td>\n",
       "      <td>2</td>\n",
       "      <td>0</td>\n",
       "      <td>2</td>\n",
       "      <td>340.855</td>\n",
       "      <td>...</td>\n",
       "      <td>25.749</td>\n",
       "      <td>4</td>\n",
       "      <td>0</td>\n",
       "      <td>21</td>\n",
       "      <td>0</td>\n",
       "      <td>21</td>\n",
       "      <td>4</td>\n",
       "      <td>24</td>\n",
       "      <td>0</td>\n",
       "      <td>0.006</td>\n",
       "    </tr>\n",
       "    <tr>\n",
       "      <th>1</th>\n",
       "      <td>Molecule     2</td>\n",
       "      <td>1</td>\n",
       "      <td>0</td>\n",
       "      <td>0</td>\n",
       "      <td>1</td>\n",
       "      <td>0</td>\n",
       "      <td>9</td>\n",
       "      <td>0</td>\n",
       "      <td>-2</td>\n",
       "      <td>494.577</td>\n",
       "      <td>...</td>\n",
       "      <td>129.573</td>\n",
       "      <td>9</td>\n",
       "      <td>0</td>\n",
       "      <td>16</td>\n",
       "      <td>0</td>\n",
       "      <td>16</td>\n",
       "      <td>3</td>\n",
       "      <td>33</td>\n",
       "      <td>0</td>\n",
       "      <td>0.003</td>\n",
       "    </tr>\n",
       "  </tbody>\n",
       "</table>\n",
       "<p>2 rows × 52 columns</p>\n",
       "</div>"
      ],
      "text/plain": [
       "         molecule  #stars  #amine  #amidine  #acid  #amide  #rotor  #rtvFG  \\\n",
       "0  Molecule     1       0       1         0      0       0       2       0   \n",
       "1  Molecule     2       1       0         0      1       0       9       0   \n",
       "\n",
       "   CNS   mol_MW  ...      PSA  #NandO  RuleOfFive  #ringatoms  #in34  #in56  \\\n",
       "0    2  340.855  ...   25.749       4           0          21      0     21   \n",
       "1   -2  494.577  ...  129.573       9           0          16      0     16   \n",
       "\n",
       "   #noncon  #nonHatm  RuleOfThree     Jm  \n",
       "0        4        24            0  0.006  \n",
       "1        3        33            0  0.003  \n",
       "\n",
       "[2 rows x 52 columns]"
      ]
     },
     "execution_count": 5,
     "metadata": {},
     "output_type": "execute_result"
    }
   ],
   "source": [
    "df"
   ]
  },
  {
   "cell_type": "code",
   "execution_count": 7,
   "metadata": {},
   "outputs": [
    {
     "data": {
      "text/plain": [
       "['.idea',\n",
       " '.ipynb_checkpoints',\n",
       " 'common',\n",
       " 'core',\n",
       " 'imtn-001.CSV',\n",
       " 'imtn-001.log',\n",
       " 'imtn-001.out',\n",
       " 'imtn.sdf',\n",
       " 'OUTPUT-001.sdfgz',\n",
       " 'scratch',\n",
       " 'test',\n",
       " 'test.sdf',\n",
       " 'Untitled.ipynb']"
      ]
     },
     "execution_count": 7,
     "metadata": {},
     "output_type": "execute_result"
    }
   ],
   "source": [
    "import os\n",
    "os.listdir('.')"
   ]
  },
  {
   "cell_type": "code",
   "execution_count": 6,
   "metadata": {},
   "outputs": [],
   "source": [
    "qpdemo = qp('imtn')\n",
    "ligandsobj = pipeio.Structures(['imtn.sdf'])\n",
    "\n",
    "qpdemo.setInput(1, 'INPUT', ligandsobj)\n",
    "qpdemo.setOutputName(1, 'OUTPUT')"
   ]
  },
  {
   "cell_type": "code",
   "execution_count": 7,
   "metadata": {},
   "outputs": [
    {
     "name": "stdout",
     "output_type": "stream",
     "text": [
      "\n",
      "Running stage: imtn\n",
      "SCHRODINGER: D:\\Program Files (x86)\\Schrodinger\n",
      "PYTHONPATH: C:\\Program Files\\PerkinElmerInformatics\\ChemOffice2020\\ChemScript\\Lib\n",
      "Time: Mon Oct 24 19:47:25 2022\n",
      "Stage started successfully\n",
      "\n",
      "Python version: 77128\n",
      "Will NOT recombine input ligands\n",
      "There will be 1 subjobs.\n",
      "Running QikProp jobs...\n",
      "\n",
      "Running subjobs on hosts:\n",
      "  localhost (Max: 1)\n",
      "Number of jobs:       1\n",
      "Max retries per job:  2\n",
      "Max allowed failures: unlimited\n",
      "Verbosity:            normal\n",
      "\n",
      "Starting JobDJ...\n",
      "\n",
      "Keep one job on driver host: False\n",
      "JobDJ columns:\n",
      "  C: Number of completed subjobs\n",
      "  A: Number of active subjobs (e.g., submitted, running)\n",
      "  W: Number of waiting/pending subjobs\n",
      "\n",
      "C A W | Activity  JobId  JobName  JobHost\n",
      "- - - | --------- -----------------------\n",
      "0 1 0 | launched  LAPTOP-0287K7QE-0-63567b51 imtn-001 localhost [LAPTOP-0287K7QE]\n",
      "1 0 0 | finished  LAPTOP-0287K7QE-0-63567b51 imtn-001 localhost [LAPTOP-0287K7QE]\n",
      "\n",
      "All jobs have completed.\n",
      "\n",
      "1 of 1 job(s) succeeded; 0 job(s) failed.\n",
      "\n",
      "Checking subjob outputs...\n",
      "\n",
      "Sum of structure counts of all subjobs:\n",
      "\n",
      " ** 1 molecules were successfully processed, 0 failed, 0 skipped **\n",
      "\n",
      "STAGE COMPLETED. Elapsed time: 16 seconds\n",
      "\n",
      "    Output #1 (OUTPUT) [structures(1)]:\n",
      "      OUTPUT-001.sdfgz\n",
      "Done.\n"
     ]
    },
    {
     "data": {
      "text/plain": [
       "{1: <schrodinger.pipeline.pipeio.Structures at 0x20eac013b20>}"
      ]
     },
     "execution_count": 7,
     "metadata": {},
     "output_type": "execute_result"
    }
   ],
   "source": [
    "qpdemo.run()"
   ]
  },
  {
   "cell_type": "code",
   "execution_count": null,
   "metadata": {},
   "outputs": [],
   "source": []
  }
 ],
 "metadata": {
  "kernelspec": {
   "display_name": "Python 3",
   "language": "python",
   "name": "python3"
  },
  "language_info": {
   "codemirror_mode": {
    "name": "ipython",
    "version": 3
   },
   "file_extension": ".py",
   "mimetype": "text/x-python",
   "name": "python",
   "nbconvert_exporter": "python",
   "pygments_lexer": "ipython3",
   "version": "3.8.10"
  }
 },
 "nbformat": 4,
 "nbformat_minor": 4
}
