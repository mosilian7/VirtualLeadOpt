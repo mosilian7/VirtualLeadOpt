{
 "cells": [
  {
   "cell_type": "code",
   "execution_count": 1,
   "metadata": {},
   "outputs": [],
   "source": [
    "import core.graph as graph\n",
    "import core.predictor as pred\n",
    "import time\n",
    "import os\n",
    "import core.constraint as constr"
   ]
  },
  {
   "cell_type": "code",
   "execution_count": 2,
   "metadata": {},
   "outputs": [],
   "source": [
    "pw = pred.PredictorWrapper(\"test/pdbdemo.pdb\",\"test/configtest.txt\", dock_cpu=4)\n",
    "ct = constr.PREDEFINED_CONSTRAINT"
   ]
  },
  {
   "cell_type": "code",
   "execution_count": 3,
   "metadata": {},
   "outputs": [],
   "source": [
    "\n",
    "SMILES = [\"C=C(C)Cn1c(CN2CCN(c3ccc(Cl)cc3)CC2)nc2ccccc21\", \"C=CC(C)n1c(CN2CCN(c3ccc(Cl)cc3)CC2)nc2ccccc21\", \n",
    "          \"C=CC(O)c1ccc(N2CCN(Cc3nc4ccccc4n3C)CC2)cc1\", \"C=CCCn1c(CN2CCN(c3ccc(Cl)cc3)CC2)nc2ccccc21\",\n",
    "         \"CCC(Cc1nc2ccccc2n1C)N1CCN(c2ccc(Cl)cc2)CC1\", \"CCCc1ccc(N2CCN(Cc3nc4ccccc4n3C)CC2)cc1\",\n",
    "         \"CN(C(=O)N1CCN(c2ccc(Cl)cc2)CC1)c1nc2ccccc2n1C\"]\n",
    "\n",
    "nodes = [graph.Node(s) for s in SMILES]\n",
    "g = graph.Graph(pw, ct, None, prediction_workers=4)\n",
    "mtp = g.multi_thread_predictor(nodes)"
   ]
  },
  {
   "cell_type": "code",
   "execution_count": 4,
   "metadata": {},
   "outputs": [],
   "source": [
    "mtp.run_predictor_method(\"prepare_sdf\", update_node=False)"
   ]
  },
  {
   "cell_type": "code",
   "execution_count": 5,
   "metadata": {},
   "outputs": [],
   "source": [
    "mtp.run_predictor_method(\"qed\")"
   ]
  },
  {
   "cell_type": "code",
   "execution_count": 6,
   "metadata": {},
   "outputs": [
    {
     "name": "stdout",
     "output_type": "stream",
     "text": [
      "\u001b[32m[21:56:40] D:\\Program Files (x86)\\Schrodinger\\qikprop STDOUT:\u001b[0m\n",
      "Jobname: 3948368935099967905\n",
      "JobId: LAPTOP-0287K7QE-2-636d0311\n",
      "\u001b[32m[21:56:40] D:\\Program Files (x86)\\Schrodinger\\qikprop STDOUT:\u001b[0m\n",
      "Jobname: 549563868826644428\n",
      "JobId: LAPTOP-0287K7QE-0-636d0311\n",
      "\u001b[32m[21:56:40] D:\\Program Files (x86)\\Schrodinger\\qikprop STDOUT:\u001b[0m\n",
      "Jobname: 5867930317219205552\n",
      "JobId: LAPTOP-0287K7QE-1-636d0311\n",
      "\u001b[32m[21:56:40] D:\\Program Files (x86)\\Schrodinger\\qikprop STDOUT:\u001b[0m\n",
      "Jobname: 2010564581123772343\n",
      "JobId: LAPTOP-0287K7QE-3-636d0311\n"
     ]
    }
   ],
   "source": [
    "mtp.run_predictor_method(\"qikprop\")"
   ]
  },
  {
   "cell_type": "code",
   "execution_count": 8,
   "metadata": {},
   "outputs": [
    {
     "name": "stderr",
     "output_type": "stream",
     "text": [
      "<ipython-input-8-7a8023d7e369>:4: SettingWithCopyWarning: \n",
      "A value is trying to be set on a copy of a slice from a DataFrame\n",
      "\n",
      "See the caveats in the documentation: https://pandas.pydata.org/pandas-docs/stable/user_guide/indexing.html#returning-a-view-versus-a-copy\n",
      "  nodes[i].prop[\"dock_score\"] = scores[i]\n",
      "<ipython-input-8-7a8023d7e369>:4: SettingWithCopyWarning: \n",
      "A value is trying to be set on a copy of a slice from a DataFrame\n",
      "\n",
      "See the caveats in the documentation: https://pandas.pydata.org/pandas-docs/stable/user_guide/indexing.html#returning-a-view-versus-a-copy\n",
      "  nodes[i].prop[\"dock_score\"] = scores[i]\n",
      "<ipython-input-8-7a8023d7e369>:4: SettingWithCopyWarning: \n",
      "A value is trying to be set on a copy of a slice from a DataFrame\n",
      "\n",
      "See the caveats in the documentation: https://pandas.pydata.org/pandas-docs/stable/user_guide/indexing.html#returning-a-view-versus-a-copy\n",
      "  nodes[i].prop[\"dock_score\"] = scores[i]\n",
      "<ipython-input-8-7a8023d7e369>:4: SettingWithCopyWarning: \n",
      "A value is trying to be set on a copy of a slice from a DataFrame\n",
      "\n",
      "See the caveats in the documentation: https://pandas.pydata.org/pandas-docs/stable/user_guide/indexing.html#returning-a-view-versus-a-copy\n",
      "  nodes[i].prop[\"dock_score\"] = scores[i]\n",
      "<ipython-input-8-7a8023d7e369>:4: SettingWithCopyWarning: \n",
      "A value is trying to be set on a copy of a slice from a DataFrame\n",
      "\n",
      "See the caveats in the documentation: https://pandas.pydata.org/pandas-docs/stable/user_guide/indexing.html#returning-a-view-versus-a-copy\n",
      "  nodes[i].prop[\"dock_score\"] = scores[i]\n",
      "<ipython-input-8-7a8023d7e369>:4: SettingWithCopyWarning: \n",
      "A value is trying to be set on a copy of a slice from a DataFrame\n",
      "\n",
      "See the caveats in the documentation: https://pandas.pydata.org/pandas-docs/stable/user_guide/indexing.html#returning-a-view-versus-a-copy\n",
      "  nodes[i].prop[\"dock_score\"] = scores[i]\n",
      "<ipython-input-8-7a8023d7e369>:4: SettingWithCopyWarning: \n",
      "A value is trying to be set on a copy of a slice from a DataFrame\n",
      "\n",
      "See the caveats in the documentation: https://pandas.pydata.org/pandas-docs/stable/user_guide/indexing.html#returning-a-view-versus-a-copy\n",
      "  nodes[i].prop[\"dock_score\"] = scores[i]\n",
      "<ipython-input-8-7a8023d7e369>:4: SettingWithCopyWarning: \n",
      "A value is trying to be set on a copy of a slice from a DataFrame\n",
      "\n",
      "See the caveats in the documentation: https://pandas.pydata.org/pandas-docs/stable/user_guide/indexing.html#returning-a-view-versus-a-copy\n",
      "  nodes[i].prop[\"dock_score\"] = scores[i]\n"
     ]
    }
   ],
   "source": [
    "# mtp.run_predictor_method(\"dock_score\")\n",
    "scores = [-5.5, -5.4, -6.1, -5.2, -5.9, -5.8, -6.0]\n",
    "for i in range(len(nodes)):\n",
    "    nodes[i].prop[\"dock_score\"] = scores[i]"
   ]
  },
  {
   "cell_type": "code",
   "execution_count": 9,
   "metadata": {},
   "outputs": [
    {
     "data": {
      "text/plain": [
       "qed                                 0.708564\n",
       "molecule                      Molecule     1\n",
       "#stars                                     0\n",
       "#amine                                     1\n",
       "#amidine                                   0\n",
       "#acid                                      0\n",
       "#amide                                     0\n",
       "#rotor                                     5\n",
       "#rtvFG                                     0\n",
       "CNS                                        1\n",
       "mol_MW                               362.474\n",
       "dipole                                   0.0\n",
       "SASA                                 679.682\n",
       "FOSA                                 307.798\n",
       "FISA                                  62.528\n",
       "PISA                                 309.355\n",
       "WPSA                                     0.0\n",
       "volume                              1231.608\n",
       "donorHB                                  1.0\n",
       "accptHB                                  6.2\n",
       "dip^2/V                                  0.0\n",
       "ACxDN^.5/SA                         0.009122\n",
       "glob                                0.817538\n",
       "QPpolrz                               42.879\n",
       "QPlogPC16                             12.515\n",
       "QPlogPoct                             18.681\n",
       "QPlogPw                               10.353\n",
       "QPlogPo/w                              3.672\n",
       "QPlogS                                -4.328\n",
       "CIQPlogS                               -4.06\n",
       "QPlogHERG                             -6.686\n",
       "QPPCaco                              630.729\n",
       "QPlogBB                                0.037\n",
       "QPPMDCK                               332.57\n",
       "QPlogKp                               -3.165\n",
       "IP(eV)                                   0.0\n",
       "EA(eV)                                   0.0\n",
       "#metab                                     3\n",
       "QPlogKhsa                              0.533\n",
       "HumanOralAbsorption                        3\n",
       "PercentHumanOralAbsorption             100.0\n",
       "SAfluorine                               0.0\n",
       "SAamideO                                 0.0\n",
       "PSA                                   43.478\n",
       "#NandO                                     5\n",
       "RuleOfFive                                 0\n",
       "#ringatoms                                21\n",
       "#in34                                      0\n",
       "#in56                                     21\n",
       "#noncon                                    4\n",
       "#nonHatm                                  27\n",
       "RuleOfThree                                0\n",
       "Jm                                     0.012\n",
       "dock_score                              -6.1\n",
       "Name: 0, dtype: object"
      ]
     },
     "execution_count": 9,
     "metadata": {},
     "output_type": "execute_result"
    }
   ],
   "source": [
    "nodes[2].prop"
   ]
  },
  {
   "cell_type": "code",
   "execution_count": 10,
   "metadata": {},
   "outputs": [],
   "source": [
    "ct.extra_args[\"orig_dock_score\"] = -7.0"
   ]
  },
  {
   "cell_type": "code",
   "execution_count": 11,
   "metadata": {},
   "outputs": [],
   "source": [
    "g.estimate_dis_on(nodes)"
   ]
  },
  {
   "cell_type": "code",
   "execution_count": 12,
   "metadata": {},
   "outputs": [
    {
     "name": "stdout",
     "output_type": "stream",
     "text": [
      "0.14724098856899856\n",
      "0.14134337975871278\n",
      "0.19002738104819797\n",
      "0.13041304846224783\n",
      "0.1734646165861157\n",
      "0.17179821993179822\n",
      "0.49372181332011156\n"
     ]
    }
   ],
   "source": [
    "for n in nodes:\n",
    "    print(n.dis_to_target)"
   ]
  },
  {
   "cell_type": "code",
   "execution_count": 12,
   "metadata": {},
   "outputs": [
    {
     "data": {
      "text/plain": [
       "[-5.5, -5.4, -6.1, -5.2, -5.9, -5.8, -6.0]"
      ]
     },
     "execution_count": 12,
     "metadata": {},
     "output_type": "execute_result"
    }
   ],
   "source": [
    "[n.prop[\"dock_score\"] for n in nodes]"
   ]
  },
  {
   "cell_type": "code",
   "execution_count": null,
   "metadata": {},
   "outputs": [],
   "source": [
    "0.10334046092128421\n",
    "0.10005577982411239\n",
    "0.12699433997054335\n",
    "0.09394275374843367\n",
    "0.11779308226517106\n",
    "0.1174494102953802\n",
    "0.5672603269247178"
   ]
  }
 ],
 "metadata": {
  "kernelspec": {
   "display_name": "Python 3",
   "language": "python",
   "name": "python3"
  },
  "language_info": {
   "codemirror_mode": {
    "name": "ipython",
    "version": 3
   },
   "file_extension": ".py",
   "mimetype": "text/x-python",
   "name": "python",
   "nbconvert_exporter": "python",
   "pygments_lexer": "ipython3",
   "version": "3.8.10"
  }
 },
 "nbformat": 4,
 "nbformat_minor": 4
}
